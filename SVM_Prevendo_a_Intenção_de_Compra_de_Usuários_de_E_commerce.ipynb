{
 "cells": [
  {
   "cell_type": "markdown",
   "metadata": {
    "colab_type": "text",
    "id": "Ot1O-fn0ochS"
   },
   "source": [
    "# Prevendo a Intenção de Compra de Usuários de E-commerce\n"
   ]
  },
  {
   "cell_type": "markdown",
   "metadata": {
    "colab_type": "text",
    "id": "YaYYxe3Ho3bC"
   },
   "source": [
    "## 1. Definição do Projeto\n",
    "\n",
    "  Nesso trabalho será avaliar quais atributos influenciam um usuário na compra de produtos online e constuir um modelo preditivo para realizar previsões de compras futuras.\n",
    "\n",
    "  Usaremos como fonte de dados o dataset:\n",
    " **Online Shoppers Purchasing Intention Dataset** \n",
    " https://archive.ics.uci.edu/ml/datasets/Online+Shoppers+Purchasing+Intention+Dataset\n",
    "\n",
    "\n",
    "O conjunto de dados consiste em vetores de recursos pertencentes a 12.330 sessões online. O conjunto de dados foi formado de modo que cada sessão pertença a um usuário diferente em um período de 1 ano para evitar qualquer tendência para uma campanha específica, dia especial, usuário, perfil ou período.\n",
    "\n",
    "O conjunto de dados consiste em 10 atributos numéricos e 8 categóricos. O atributos 'Revenue'pode ser usado como rótulo da classe.\n"
   ]
  },
  {
   "cell_type": "markdown",
   "metadata": {
    "colab_type": "text",
    "id": "jGuPatBcsNnr"
   },
   "source": [
    "## 2. Importando os Pacotes"
   ]
  },
  {
   "cell_type": "code",
   "execution_count": 1,
   "metadata": {
    "colab": {
     "base_uri": "https://localhost:8080/",
     "height": 51
    },
    "colab_type": "code",
    "id": "O9CtphNioVyS",
    "outputId": "96436840-9a57-473e-ebdf-9f6d1d1dca8d"
   },
   "outputs": [],
   "source": [
    "import numpy as np\n",
    "import pandas as pd\n",
    "import seaborn as sns\n",
    "import matplotlib.pyplot as plt\n",
    "from sklearn.preprocessing import StandardScaler, LabelEncoder\n",
    "from sklearn.model_selection import train_test_split, GridSearchCV\n",
    "from sklearn.metrics import precision_score, recall_score, f1_score, accuracy_score, roc_auc_score\n",
    "from sklearn import svm\n",
    "from time import time\n",
    "import warnings\n",
    "warnings.filterwarnings('ignore')"
   ]
  },
  {
   "cell_type": "code",
   "execution_count": 2,
   "metadata": {
    "colab": {
     "base_uri": "https://localhost:8080/",
     "height": 224
    },
    "colab_type": "code",
    "id": "67ZQtzpWoxIU",
    "outputId": "c3879223-788c-4d09-b72a-b7ec3683eb7c"
   },
   "outputs": [
    {
     "data": {
      "text/html": [
       "<div>\n",
       "<style scoped>\n",
       "    .dataframe tbody tr th:only-of-type {\n",
       "        vertical-align: middle;\n",
       "    }\n",
       "\n",
       "    .dataframe tbody tr th {\n",
       "        vertical-align: top;\n",
       "    }\n",
       "\n",
       "    .dataframe thead th {\n",
       "        text-align: right;\n",
       "    }\n",
       "</style>\n",
       "<table border=\"1\" class=\"dataframe\">\n",
       "  <thead>\n",
       "    <tr style=\"text-align: right;\">\n",
       "      <th></th>\n",
       "      <th>Administrative</th>\n",
       "      <th>Administrative_Duration</th>\n",
       "      <th>Informational</th>\n",
       "      <th>Informational_Duration</th>\n",
       "      <th>ProductRelated</th>\n",
       "      <th>ProductRelated_Duration</th>\n",
       "      <th>BounceRates</th>\n",
       "      <th>ExitRates</th>\n",
       "      <th>PageValues</th>\n",
       "      <th>SpecialDay</th>\n",
       "      <th>Month</th>\n",
       "      <th>OperatingSystems</th>\n",
       "      <th>Browser</th>\n",
       "      <th>Region</th>\n",
       "      <th>TrafficType</th>\n",
       "      <th>VisitorType</th>\n",
       "      <th>Weekend</th>\n",
       "      <th>Revenue</th>\n",
       "    </tr>\n",
       "  </thead>\n",
       "  <tbody>\n",
       "    <tr>\n",
       "      <th>0</th>\n",
       "      <td>0.0</td>\n",
       "      <td>0.0</td>\n",
       "      <td>0.0</td>\n",
       "      <td>0.0</td>\n",
       "      <td>1.0</td>\n",
       "      <td>0.000000</td>\n",
       "      <td>0.200000</td>\n",
       "      <td>0.200000</td>\n",
       "      <td>0.000000</td>\n",
       "      <td>0.0</td>\n",
       "      <td>Feb</td>\n",
       "      <td>1</td>\n",
       "      <td>1</td>\n",
       "      <td>1</td>\n",
       "      <td>1</td>\n",
       "      <td>Returning_Visitor</td>\n",
       "      <td>False</td>\n",
       "      <td>False</td>\n",
       "    </tr>\n",
       "    <tr>\n",
       "      <th>1</th>\n",
       "      <td>0.0</td>\n",
       "      <td>0.0</td>\n",
       "      <td>0.0</td>\n",
       "      <td>0.0</td>\n",
       "      <td>2.0</td>\n",
       "      <td>64.000000</td>\n",
       "      <td>0.000000</td>\n",
       "      <td>0.100000</td>\n",
       "      <td>0.000000</td>\n",
       "      <td>0.0</td>\n",
       "      <td>Feb</td>\n",
       "      <td>2</td>\n",
       "      <td>2</td>\n",
       "      <td>1</td>\n",
       "      <td>2</td>\n",
       "      <td>Returning_Visitor</td>\n",
       "      <td>False</td>\n",
       "      <td>False</td>\n",
       "    </tr>\n",
       "    <tr>\n",
       "      <th>2</th>\n",
       "      <td>0.0</td>\n",
       "      <td>-1.0</td>\n",
       "      <td>0.0</td>\n",
       "      <td>-1.0</td>\n",
       "      <td>1.0</td>\n",
       "      <td>-1.000000</td>\n",
       "      <td>0.200000</td>\n",
       "      <td>0.200000</td>\n",
       "      <td>0.000000</td>\n",
       "      <td>0.0</td>\n",
       "      <td>Feb</td>\n",
       "      <td>4</td>\n",
       "      <td>1</td>\n",
       "      <td>9</td>\n",
       "      <td>3</td>\n",
       "      <td>Returning_Visitor</td>\n",
       "      <td>False</td>\n",
       "      <td>False</td>\n",
       "    </tr>\n",
       "    <tr>\n",
       "      <th>3</th>\n",
       "      <td>0.0</td>\n",
       "      <td>0.0</td>\n",
       "      <td>0.0</td>\n",
       "      <td>0.0</td>\n",
       "      <td>2.0</td>\n",
       "      <td>2.666667</td>\n",
       "      <td>0.050000</td>\n",
       "      <td>0.140000</td>\n",
       "      <td>0.000000</td>\n",
       "      <td>0.0</td>\n",
       "      <td>Feb</td>\n",
       "      <td>3</td>\n",
       "      <td>2</td>\n",
       "      <td>2</td>\n",
       "      <td>4</td>\n",
       "      <td>Returning_Visitor</td>\n",
       "      <td>False</td>\n",
       "      <td>False</td>\n",
       "    </tr>\n",
       "    <tr>\n",
       "      <th>4</th>\n",
       "      <td>0.0</td>\n",
       "      <td>0.0</td>\n",
       "      <td>0.0</td>\n",
       "      <td>0.0</td>\n",
       "      <td>10.0</td>\n",
       "      <td>627.500000</td>\n",
       "      <td>0.020000</td>\n",
       "      <td>0.050000</td>\n",
       "      <td>0.000000</td>\n",
       "      <td>0.0</td>\n",
       "      <td>Feb</td>\n",
       "      <td>3</td>\n",
       "      <td>3</td>\n",
       "      <td>1</td>\n",
       "      <td>4</td>\n",
       "      <td>Returning_Visitor</td>\n",
       "      <td>True</td>\n",
       "      <td>False</td>\n",
       "    </tr>\n",
       "    <tr>\n",
       "      <th>...</th>\n",
       "      <td>...</td>\n",
       "      <td>...</td>\n",
       "      <td>...</td>\n",
       "      <td>...</td>\n",
       "      <td>...</td>\n",
       "      <td>...</td>\n",
       "      <td>...</td>\n",
       "      <td>...</td>\n",
       "      <td>...</td>\n",
       "      <td>...</td>\n",
       "      <td>...</td>\n",
       "      <td>...</td>\n",
       "      <td>...</td>\n",
       "      <td>...</td>\n",
       "      <td>...</td>\n",
       "      <td>...</td>\n",
       "      <td>...</td>\n",
       "      <td>...</td>\n",
       "    </tr>\n",
       "    <tr>\n",
       "      <th>12325</th>\n",
       "      <td>3.0</td>\n",
       "      <td>145.0</td>\n",
       "      <td>0.0</td>\n",
       "      <td>0.0</td>\n",
       "      <td>53.0</td>\n",
       "      <td>1783.791667</td>\n",
       "      <td>0.007143</td>\n",
       "      <td>0.029031</td>\n",
       "      <td>12.241717</td>\n",
       "      <td>0.0</td>\n",
       "      <td>Dec</td>\n",
       "      <td>4</td>\n",
       "      <td>6</td>\n",
       "      <td>1</td>\n",
       "      <td>1</td>\n",
       "      <td>Returning_Visitor</td>\n",
       "      <td>True</td>\n",
       "      <td>False</td>\n",
       "    </tr>\n",
       "    <tr>\n",
       "      <th>12326</th>\n",
       "      <td>0.0</td>\n",
       "      <td>0.0</td>\n",
       "      <td>0.0</td>\n",
       "      <td>0.0</td>\n",
       "      <td>5.0</td>\n",
       "      <td>465.750000</td>\n",
       "      <td>0.000000</td>\n",
       "      <td>0.021333</td>\n",
       "      <td>0.000000</td>\n",
       "      <td>0.0</td>\n",
       "      <td>Nov</td>\n",
       "      <td>3</td>\n",
       "      <td>2</td>\n",
       "      <td>1</td>\n",
       "      <td>8</td>\n",
       "      <td>Returning_Visitor</td>\n",
       "      <td>True</td>\n",
       "      <td>False</td>\n",
       "    </tr>\n",
       "    <tr>\n",
       "      <th>12327</th>\n",
       "      <td>0.0</td>\n",
       "      <td>0.0</td>\n",
       "      <td>0.0</td>\n",
       "      <td>0.0</td>\n",
       "      <td>6.0</td>\n",
       "      <td>184.250000</td>\n",
       "      <td>0.083333</td>\n",
       "      <td>0.086667</td>\n",
       "      <td>0.000000</td>\n",
       "      <td>0.0</td>\n",
       "      <td>Nov</td>\n",
       "      <td>3</td>\n",
       "      <td>2</td>\n",
       "      <td>1</td>\n",
       "      <td>13</td>\n",
       "      <td>Returning_Visitor</td>\n",
       "      <td>True</td>\n",
       "      <td>False</td>\n",
       "    </tr>\n",
       "    <tr>\n",
       "      <th>12328</th>\n",
       "      <td>4.0</td>\n",
       "      <td>75.0</td>\n",
       "      <td>0.0</td>\n",
       "      <td>0.0</td>\n",
       "      <td>15.0</td>\n",
       "      <td>346.000000</td>\n",
       "      <td>0.000000</td>\n",
       "      <td>0.021053</td>\n",
       "      <td>0.000000</td>\n",
       "      <td>0.0</td>\n",
       "      <td>Nov</td>\n",
       "      <td>2</td>\n",
       "      <td>2</td>\n",
       "      <td>3</td>\n",
       "      <td>11</td>\n",
       "      <td>Returning_Visitor</td>\n",
       "      <td>False</td>\n",
       "      <td>False</td>\n",
       "    </tr>\n",
       "    <tr>\n",
       "      <th>12329</th>\n",
       "      <td>0.0</td>\n",
       "      <td>0.0</td>\n",
       "      <td>0.0</td>\n",
       "      <td>0.0</td>\n",
       "      <td>3.0</td>\n",
       "      <td>21.250000</td>\n",
       "      <td>0.000000</td>\n",
       "      <td>0.066667</td>\n",
       "      <td>0.000000</td>\n",
       "      <td>0.0</td>\n",
       "      <td>Nov</td>\n",
       "      <td>3</td>\n",
       "      <td>2</td>\n",
       "      <td>1</td>\n",
       "      <td>2</td>\n",
       "      <td>New_Visitor</td>\n",
       "      <td>True</td>\n",
       "      <td>False</td>\n",
       "    </tr>\n",
       "  </tbody>\n",
       "</table>\n",
       "<p>12330 rows × 18 columns</p>\n",
       "</div>"
      ],
      "text/plain": [
       "       Administrative  Administrative_Duration  Informational  \\\n",
       "0                 0.0                      0.0            0.0   \n",
       "1                 0.0                      0.0            0.0   \n",
       "2                 0.0                     -1.0            0.0   \n",
       "3                 0.0                      0.0            0.0   \n",
       "4                 0.0                      0.0            0.0   \n",
       "...               ...                      ...            ...   \n",
       "12325             3.0                    145.0            0.0   \n",
       "12326             0.0                      0.0            0.0   \n",
       "12327             0.0                      0.0            0.0   \n",
       "12328             4.0                     75.0            0.0   \n",
       "12329             0.0                      0.0            0.0   \n",
       "\n",
       "       Informational_Duration  ProductRelated  ProductRelated_Duration  \\\n",
       "0                         0.0             1.0                 0.000000   \n",
       "1                         0.0             2.0                64.000000   \n",
       "2                        -1.0             1.0                -1.000000   \n",
       "3                         0.0             2.0                 2.666667   \n",
       "4                         0.0            10.0               627.500000   \n",
       "...                       ...             ...                      ...   \n",
       "12325                     0.0            53.0              1783.791667   \n",
       "12326                     0.0             5.0               465.750000   \n",
       "12327                     0.0             6.0               184.250000   \n",
       "12328                     0.0            15.0               346.000000   \n",
       "12329                     0.0             3.0                21.250000   \n",
       "\n",
       "       BounceRates  ExitRates  PageValues  SpecialDay Month  OperatingSystems  \\\n",
       "0         0.200000   0.200000    0.000000         0.0   Feb                 1   \n",
       "1         0.000000   0.100000    0.000000         0.0   Feb                 2   \n",
       "2         0.200000   0.200000    0.000000         0.0   Feb                 4   \n",
       "3         0.050000   0.140000    0.000000         0.0   Feb                 3   \n",
       "4         0.020000   0.050000    0.000000         0.0   Feb                 3   \n",
       "...            ...        ...         ...         ...   ...               ...   \n",
       "12325     0.007143   0.029031   12.241717         0.0   Dec                 4   \n",
       "12326     0.000000   0.021333    0.000000         0.0   Nov                 3   \n",
       "12327     0.083333   0.086667    0.000000         0.0   Nov                 3   \n",
       "12328     0.000000   0.021053    0.000000         0.0   Nov                 2   \n",
       "12329     0.000000   0.066667    0.000000         0.0   Nov                 3   \n",
       "\n",
       "       Browser  Region  TrafficType        VisitorType  Weekend  Revenue  \n",
       "0            1       1            1  Returning_Visitor    False    False  \n",
       "1            2       1            2  Returning_Visitor    False    False  \n",
       "2            1       9            3  Returning_Visitor    False    False  \n",
       "3            2       2            4  Returning_Visitor    False    False  \n",
       "4            3       1            4  Returning_Visitor     True    False  \n",
       "...        ...     ...          ...                ...      ...      ...  \n",
       "12325        6       1            1  Returning_Visitor     True    False  \n",
       "12326        2       1            8  Returning_Visitor     True    False  \n",
       "12327        2       1           13  Returning_Visitor     True    False  \n",
       "12328        2       3           11  Returning_Visitor    False    False  \n",
       "12329        2       1            2        New_Visitor     True    False  \n",
       "\n",
       "[12330 rows x 18 columns]"
      ]
     },
     "execution_count": 2,
     "metadata": {},
     "output_type": "execute_result"
    }
   ],
   "source": [
    "df_original = pd.read_csv('online_shoppers_intention.csv')\n",
    "df_original"
   ]
  },
  {
   "cell_type": "code",
   "execution_count": 3,
   "metadata": {
    "colab": {
     "base_uri": "https://localhost:8080/",
     "height": 224
    },
    "colab_type": "code",
    "id": "CTPH7BPVu7ed",
    "outputId": "8a0c9ab8-0a2c-4761-8ddc-71ec83ccd294"
   },
   "outputs": [
    {
     "data": {
      "text/html": [
       "<div>\n",
       "<style scoped>\n",
       "    .dataframe tbody tr th:only-of-type {\n",
       "        vertical-align: middle;\n",
       "    }\n",
       "\n",
       "    .dataframe tbody tr th {\n",
       "        vertical-align: top;\n",
       "    }\n",
       "\n",
       "    .dataframe thead th {\n",
       "        text-align: right;\n",
       "    }\n",
       "</style>\n",
       "<table border=\"1\" class=\"dataframe\">\n",
       "  <thead>\n",
       "    <tr style=\"text-align: right;\">\n",
       "      <th></th>\n",
       "      <th>administrativo</th>\n",
       "      <th>duracao_administrativa</th>\n",
       "      <th>informativo</th>\n",
       "      <th>duracao_informativo</th>\n",
       "      <th>relacionado_produto</th>\n",
       "      <th>duracao_relacionada_produto</th>\n",
       "      <th>taxas_rejeicao</th>\n",
       "      <th>taxas_saida</th>\n",
       "      <th>valores_pagina</th>\n",
       "      <th>dia_especial</th>\n",
       "      <th>mes</th>\n",
       "      <th>sistemas_operacionais</th>\n",
       "      <th>navegador</th>\n",
       "      <th>regiao</th>\n",
       "      <th>tipo_trafego</th>\n",
       "      <th>tipo_visitante</th>\n",
       "      <th>final_semana</th>\n",
       "      <th>receita</th>\n",
       "    </tr>\n",
       "  </thead>\n",
       "  <tbody>\n",
       "    <tr>\n",
       "      <th>0</th>\n",
       "      <td>0.0</td>\n",
       "      <td>0.0</td>\n",
       "      <td>0.0</td>\n",
       "      <td>0.0</td>\n",
       "      <td>1.0</td>\n",
       "      <td>0.000000</td>\n",
       "      <td>0.20</td>\n",
       "      <td>0.20</td>\n",
       "      <td>0.0</td>\n",
       "      <td>0.0</td>\n",
       "      <td>Feb</td>\n",
       "      <td>1</td>\n",
       "      <td>1</td>\n",
       "      <td>1</td>\n",
       "      <td>1</td>\n",
       "      <td>Returning_Visitor</td>\n",
       "      <td>False</td>\n",
       "      <td>False</td>\n",
       "    </tr>\n",
       "    <tr>\n",
       "      <th>1</th>\n",
       "      <td>0.0</td>\n",
       "      <td>0.0</td>\n",
       "      <td>0.0</td>\n",
       "      <td>0.0</td>\n",
       "      <td>2.0</td>\n",
       "      <td>64.000000</td>\n",
       "      <td>0.00</td>\n",
       "      <td>0.10</td>\n",
       "      <td>0.0</td>\n",
       "      <td>0.0</td>\n",
       "      <td>Feb</td>\n",
       "      <td>2</td>\n",
       "      <td>2</td>\n",
       "      <td>1</td>\n",
       "      <td>2</td>\n",
       "      <td>Returning_Visitor</td>\n",
       "      <td>False</td>\n",
       "      <td>False</td>\n",
       "    </tr>\n",
       "    <tr>\n",
       "      <th>2</th>\n",
       "      <td>0.0</td>\n",
       "      <td>-1.0</td>\n",
       "      <td>0.0</td>\n",
       "      <td>-1.0</td>\n",
       "      <td>1.0</td>\n",
       "      <td>-1.000000</td>\n",
       "      <td>0.20</td>\n",
       "      <td>0.20</td>\n",
       "      <td>0.0</td>\n",
       "      <td>0.0</td>\n",
       "      <td>Feb</td>\n",
       "      <td>4</td>\n",
       "      <td>1</td>\n",
       "      <td>9</td>\n",
       "      <td>3</td>\n",
       "      <td>Returning_Visitor</td>\n",
       "      <td>False</td>\n",
       "      <td>False</td>\n",
       "    </tr>\n",
       "    <tr>\n",
       "      <th>3</th>\n",
       "      <td>0.0</td>\n",
       "      <td>0.0</td>\n",
       "      <td>0.0</td>\n",
       "      <td>0.0</td>\n",
       "      <td>2.0</td>\n",
       "      <td>2.666667</td>\n",
       "      <td>0.05</td>\n",
       "      <td>0.14</td>\n",
       "      <td>0.0</td>\n",
       "      <td>0.0</td>\n",
       "      <td>Feb</td>\n",
       "      <td>3</td>\n",
       "      <td>2</td>\n",
       "      <td>2</td>\n",
       "      <td>4</td>\n",
       "      <td>Returning_Visitor</td>\n",
       "      <td>False</td>\n",
       "      <td>False</td>\n",
       "    </tr>\n",
       "    <tr>\n",
       "      <th>4</th>\n",
       "      <td>0.0</td>\n",
       "      <td>0.0</td>\n",
       "      <td>0.0</td>\n",
       "      <td>0.0</td>\n",
       "      <td>10.0</td>\n",
       "      <td>627.500000</td>\n",
       "      <td>0.02</td>\n",
       "      <td>0.05</td>\n",
       "      <td>0.0</td>\n",
       "      <td>0.0</td>\n",
       "      <td>Feb</td>\n",
       "      <td>3</td>\n",
       "      <td>3</td>\n",
       "      <td>1</td>\n",
       "      <td>4</td>\n",
       "      <td>Returning_Visitor</td>\n",
       "      <td>True</td>\n",
       "      <td>False</td>\n",
       "    </tr>\n",
       "  </tbody>\n",
       "</table>\n",
       "</div>"
      ],
      "text/plain": [
       "   administrativo  duracao_administrativa  informativo  duracao_informativo  \\\n",
       "0             0.0                     0.0          0.0                  0.0   \n",
       "1             0.0                     0.0          0.0                  0.0   \n",
       "2             0.0                    -1.0          0.0                 -1.0   \n",
       "3             0.0                     0.0          0.0                  0.0   \n",
       "4             0.0                     0.0          0.0                  0.0   \n",
       "\n",
       "   relacionado_produto  duracao_relacionada_produto  taxas_rejeicao  \\\n",
       "0                  1.0                     0.000000            0.20   \n",
       "1                  2.0                    64.000000            0.00   \n",
       "2                  1.0                    -1.000000            0.20   \n",
       "3                  2.0                     2.666667            0.05   \n",
       "4                 10.0                   627.500000            0.02   \n",
       "\n",
       "   taxas_saida  valores_pagina  dia_especial  mes  sistemas_operacionais  \\\n",
       "0         0.20             0.0           0.0  Feb                      1   \n",
       "1         0.10             0.0           0.0  Feb                      2   \n",
       "2         0.20             0.0           0.0  Feb                      4   \n",
       "3         0.14             0.0           0.0  Feb                      3   \n",
       "4         0.05             0.0           0.0  Feb                      3   \n",
       "\n",
       "   navegador  regiao  tipo_trafego     tipo_visitante  final_semana  receita  \n",
       "0          1       1             1  Returning_Visitor         False    False  \n",
       "1          2       1             2  Returning_Visitor         False    False  \n",
       "2          1       9             3  Returning_Visitor         False    False  \n",
       "3          2       2             4  Returning_Visitor         False    False  \n",
       "4          3       1             4  Returning_Visitor          True    False  "
      ]
     },
     "execution_count": 3,
     "metadata": {},
     "output_type": "execute_result"
    }
   ],
   "source": [
    "#Alterando o nome das colunas\n",
    "colunas = {'Administrative':'administrativo',\n",
    "            'Administrative_Duration':'duracao_administrativa', \n",
    "            'Informational':'informativo', \n",
    "            'Informational_Duration':'duracao_informativo',\n",
    "            'ProductRelated':'relacionado_produto',\n",
    "            'ProductRelated_Duration':'duracao_relacionada_produto',\n",
    "            'BounceRates':'taxas_rejeicao',\n",
    "            'ExitRates':'taxas_saida',\n",
    "            'PageValues':'valores_pagina', \n",
    "            'SpecialDay':'dia_especial', \n",
    "            'Month':'mes',\n",
    "            'OperatingSystems':'sistemas_operacionais',\n",
    "            'Browser':'navegador',\n",
    "            'Region':'regiao',\n",
    "            'TrafficType':'tipo_trafego',\n",
    "            'VisitorType':'tipo_visitante',\n",
    "            'Weekend':'final_semana',\n",
    "            'Revenue':'receita'}\n",
    "\n",
    "df_original.rename(columns=colunas,  inplace=True)\n",
    "df_original.head()"
   ]
  },
  {
   "cell_type": "markdown",
   "metadata": {
    "colab_type": "text",
    "id": "dy-i-Nhr1r0x"
   },
   "source": [
    "\"Administrativo\", \"Duração administrativa\", \"Informativo\", \"Duração informativo\", \"Relacionado ao produto\" e \"Duração relacionada ao produto\" representam o número de diferentes tipos de páginas visitadas pelo visitante nessa sessão e o tempo total gasto em cada um dos essas categorias de página. Os valores desses recursos são derivados das informações de URL das páginas visitadas pelo usuário e atualizadas em tempo real quando um usuário executa uma ação, por exemplo, mover de uma página para outra. \n",
    "\n",
    "Os recursos \"Taxa de rejeição\", \"Taxa de saída\" e \"Valor da página\" representam as métricas medidas pelo \"Google Analytics\" para cada página no site de comércio eletrônico. \n",
    "\n",
    "O valor de \"Taxa de rejeição\" o recurso de uma página da web refere-se à porcentagem de visitantes que entram no site a partir dessa página e depois saem (\"rejeição\") sem acionar outras solicitações ao servidor de análise durante essa sessão. \n",
    "\n",
    "O valor do recurso \"Taxa de saída\" para uma página da web específica é calculado como para todas as exibições de página da página, a porcentagem que foi a última na sessão. O recurso \"Valor da página\" representa o valor médio para uma página da web que um usuário visitou antes de concluir uma transação de comércio eletrônico. \n",
    "\n",
    "O recurso \"Dia especial\" indica a proximidade do horário de visita do site a um dia especial específico (por exemplo, dia das mães, dia dos namorados), no qual as sessões têm mais probabilidade de serem finalizadas com a transação. \n",
    "\n",
    "O valor desse atributo é determinado considerando a dinâmica do comércio eletrônico, como a duração entre a data do pedido e a data de entrega. Por exemplo, no dia de Valentina, esse valor assume um valor diferente de zero entre 2 e 12 de fevereiro, zero antes e depois dessa data, a menos que esteja próximo de outro dia especial e seu valor máximo de 1 em 8 de fevereiro. \n",
    "\n",
    "O conjunto de dados também inclui operações sistema, navegador, região, tipo de tráfego, tipo de visitante como visitante novo ou recorrente, um valor booleano indicando se a data da visita é final de semana e mês do ano.\n",
    "\n",
    "A variável alvo (Revenue) é booleana, com True se a sessão gerou receita e False se não gerou."
   ]
  },
  {
   "cell_type": "markdown",
   "metadata": {
    "colab_type": "text",
    "id": "3YtwKF728IpB"
   },
   "source": [
    "## 3. Análise Exploratória"
   ]
  },
  {
   "cell_type": "code",
   "execution_count": 4,
   "metadata": {
    "colab": {
     "base_uri": "https://localhost:8080/",
     "height": 34
    },
    "colab_type": "code",
    "id": "C7q1FdFSxrjU",
    "outputId": "f05c1fd7-a20a-442a-9844-5dea43f4c796"
   },
   "outputs": [
    {
     "data": {
      "text/plain": [
       "(12330, 18)"
      ]
     },
     "execution_count": 4,
     "metadata": {},
     "output_type": "execute_result"
    }
   ],
   "source": [
    "#shape\n",
    "df_original.shape"
   ]
  },
  {
   "cell_type": "code",
   "execution_count": 5,
   "metadata": {
    "colab": {
     "base_uri": "https://localhost:8080/",
     "height": 340
    },
    "colab_type": "code",
    "id": "skLHwlkW8QUJ",
    "outputId": "cb481e9c-ff01-4452-d347-eb0be4e7471e"
   },
   "outputs": [
    {
     "data": {
      "text/plain": [
       "administrativo                 float64\n",
       "duracao_administrativa         float64\n",
       "informativo                    float64\n",
       "duracao_informativo            float64\n",
       "relacionado_produto            float64\n",
       "duracao_relacionada_produto    float64\n",
       "taxas_rejeicao                 float64\n",
       "taxas_saida                    float64\n",
       "valores_pagina                 float64\n",
       "dia_especial                   float64\n",
       "mes                             object\n",
       "sistemas_operacionais            int64\n",
       "navegador                        int64\n",
       "regiao                           int64\n",
       "tipo_trafego                     int64\n",
       "tipo_visitante                  object\n",
       "final_semana                      bool\n",
       "receita                           bool\n",
       "dtype: object"
      ]
     },
     "execution_count": 5,
     "metadata": {},
     "output_type": "execute_result"
    }
   ],
   "source": [
    "#tipos dos Dados\n",
    "df_original.dtypes"
   ]
  },
  {
   "cell_type": "code",
   "execution_count": 6,
   "metadata": {
    "colab": {
     "base_uri": "https://localhost:8080/",
     "height": 340
    },
    "colab_type": "code",
    "id": "wKDGqprY8VVi",
    "outputId": "a8dea403-37ac-4b7a-b771-b873abe60bca"
   },
   "outputs": [
    {
     "name": "stdout",
     "output_type": "stream",
     "text": [
      "administrativo                 14\n",
      "duracao_administrativa         14\n",
      "informativo                    14\n",
      "duracao_informativo            14\n",
      "relacionado_produto            14\n",
      "duracao_relacionada_produto    14\n",
      "taxas_rejeicao                 14\n",
      "taxas_saida                    14\n",
      "valores_pagina                  0\n",
      "dia_especial                    0\n",
      "mes                             0\n",
      "sistemas_operacionais           0\n",
      "navegador                       0\n",
      "regiao                          0\n",
      "tipo_trafego                    0\n",
      "tipo_visitante                  0\n",
      "final_semana                    0\n",
      "receita                         0\n",
      "dtype: int64\n"
     ]
    }
   ],
   "source": [
    "#verificando valores missing\n",
    "print(df_original.isna().sum())"
   ]
  },
  {
   "cell_type": "code",
   "execution_count": 7,
   "metadata": {
    "colab": {},
    "colab_type": "code",
    "id": "wwLuy64A8fgM"
   },
   "outputs": [],
   "source": [
    "#removendo as linhas com valores missing\n",
    "df_original.dropna(inplace=True)"
   ]
  },
  {
   "cell_type": "code",
   "execution_count": 8,
   "metadata": {
    "colab": {
     "base_uri": "https://localhost:8080/",
     "height": 357
    },
    "colab_type": "code",
    "id": "WNOfNd5A8_tR",
    "outputId": "7eabf9f4-a9cd-4918-8950-2265cec9e57e"
   },
   "outputs": [
    {
     "name": "stdout",
     "output_type": "stream",
     "text": [
      "administrativo                 0\n",
      "duracao_administrativa         0\n",
      "informativo                    0\n",
      "duracao_informativo            0\n",
      "relacionado_produto            0\n",
      "duracao_relacionada_produto    0\n",
      "taxas_rejeicao                 0\n",
      "taxas_saida                    0\n",
      "valores_pagina                 0\n",
      "dia_especial                   0\n",
      "mes                            0\n",
      "sistemas_operacionais          0\n",
      "navegador                      0\n",
      "regiao                         0\n",
      "tipo_trafego                   0\n",
      "tipo_visitante                 0\n",
      "final_semana                   0\n",
      "receita                        0\n",
      "dtype: int64\n"
     ]
    },
    {
     "data": {
      "text/plain": [
       "(12316, 18)"
      ]
     },
     "execution_count": 8,
     "metadata": {},
     "output_type": "execute_result"
    }
   ],
   "source": [
    "print(df_original.isna().sum())\n",
    "df_original.shape"
   ]
  },
  {
   "cell_type": "code",
   "execution_count": 9,
   "metadata": {
    "colab": {
     "base_uri": "https://localhost:8080/",
     "height": 340
    },
    "colab_type": "code",
    "id": "US5iqm579BUu",
    "outputId": "b7b364d7-7a7c-417c-f4a5-f6a2001b07b5"
   },
   "outputs": [
    {
     "data": {
      "text/plain": [
       "administrativo                   27\n",
       "duracao_administrativa         3336\n",
       "informativo                      17\n",
       "duracao_informativo            1259\n",
       "relacionado_produto             311\n",
       "duracao_relacionada_produto    9552\n",
       "taxas_rejeicao                 1872\n",
       "taxas_saida                    4777\n",
       "valores_pagina                 2704\n",
       "dia_especial                      6\n",
       "mes                              10\n",
       "sistemas_operacionais             8\n",
       "navegador                        13\n",
       "regiao                            9\n",
       "tipo_trafego                     20\n",
       "tipo_visitante                    3\n",
       "final_semana                      2\n",
       "receita                           2\n",
       "dtype: int64"
      ]
     },
     "execution_count": 9,
     "metadata": {},
     "output_type": "execute_result"
    }
   ],
   "source": [
    "# verificando valores únicos\n",
    "df_original.nunique()"
   ]
  },
  {
   "cell_type": "code",
   "execution_count": 10,
   "metadata": {
    "colab": {},
    "colab_type": "code",
    "id": "OOaJJuSL9OXP"
   },
   "outputs": [],
   "source": [
    "# Dividindo o dataset em variáveis categórica e numericas.\n",
    "#criar uma cópia do dataset\n",
    "df = df_original.copy()\n",
    "\n",
    "\n",
    "#Lista de vazias para os resultados\n",
    "var_continuas = df[['duracao_administrativa','duracao_informativo','relacionado_produto',\n",
    "                    'duracao_relacionada_produto','taxas_rejeicao','taxas_saida','valores_pagina' ]]\n",
    "\n",
    "var_categoricas = df[['administrativo','informativo','dia_especial','mes','sistemas_operacionais',\n",
    "                      'navegador','regiao','tipo_trafego','tipo_visitante','final_semana','receita']]"
   ]
  },
  {
   "cell_type": "code",
   "execution_count": 11,
   "metadata": {
    "colab": {
     "base_uri": "https://localhost:8080/",
     "height": 204
    },
    "colab_type": "code",
    "id": "NTDYoaJBN2_F",
    "outputId": "8f7c5f66-6701-4b49-9263-f5270da1fa8e"
   },
   "outputs": [
    {
     "data": {
      "text/html": [
       "<div>\n",
       "<style scoped>\n",
       "    .dataframe tbody tr th:only-of-type {\n",
       "        vertical-align: middle;\n",
       "    }\n",
       "\n",
       "    .dataframe tbody tr th {\n",
       "        vertical-align: top;\n",
       "    }\n",
       "\n",
       "    .dataframe thead th {\n",
       "        text-align: right;\n",
       "    }\n",
       "</style>\n",
       "<table border=\"1\" class=\"dataframe\">\n",
       "  <thead>\n",
       "    <tr style=\"text-align: right;\">\n",
       "      <th></th>\n",
       "      <th>duracao_administrativa</th>\n",
       "      <th>duracao_informativo</th>\n",
       "      <th>relacionado_produto</th>\n",
       "      <th>duracao_relacionada_produto</th>\n",
       "      <th>taxas_rejeicao</th>\n",
       "      <th>taxas_saida</th>\n",
       "      <th>valores_pagina</th>\n",
       "    </tr>\n",
       "  </thead>\n",
       "  <tbody>\n",
       "    <tr>\n",
       "      <th>0</th>\n",
       "      <td>0.0</td>\n",
       "      <td>0.0</td>\n",
       "      <td>1.0</td>\n",
       "      <td>0.000000</td>\n",
       "      <td>0.20</td>\n",
       "      <td>0.20</td>\n",
       "      <td>0.0</td>\n",
       "    </tr>\n",
       "    <tr>\n",
       "      <th>1</th>\n",
       "      <td>0.0</td>\n",
       "      <td>0.0</td>\n",
       "      <td>2.0</td>\n",
       "      <td>64.000000</td>\n",
       "      <td>0.00</td>\n",
       "      <td>0.10</td>\n",
       "      <td>0.0</td>\n",
       "    </tr>\n",
       "    <tr>\n",
       "      <th>2</th>\n",
       "      <td>-1.0</td>\n",
       "      <td>-1.0</td>\n",
       "      <td>1.0</td>\n",
       "      <td>-1.000000</td>\n",
       "      <td>0.20</td>\n",
       "      <td>0.20</td>\n",
       "      <td>0.0</td>\n",
       "    </tr>\n",
       "    <tr>\n",
       "      <th>3</th>\n",
       "      <td>0.0</td>\n",
       "      <td>0.0</td>\n",
       "      <td>2.0</td>\n",
       "      <td>2.666667</td>\n",
       "      <td>0.05</td>\n",
       "      <td>0.14</td>\n",
       "      <td>0.0</td>\n",
       "    </tr>\n",
       "    <tr>\n",
       "      <th>4</th>\n",
       "      <td>0.0</td>\n",
       "      <td>0.0</td>\n",
       "      <td>10.0</td>\n",
       "      <td>627.500000</td>\n",
       "      <td>0.02</td>\n",
       "      <td>0.05</td>\n",
       "      <td>0.0</td>\n",
       "    </tr>\n",
       "  </tbody>\n",
       "</table>\n",
       "</div>"
      ],
      "text/plain": [
       "   duracao_administrativa  duracao_informativo  relacionado_produto  \\\n",
       "0                     0.0                  0.0                  1.0   \n",
       "1                     0.0                  0.0                  2.0   \n",
       "2                    -1.0                 -1.0                  1.0   \n",
       "3                     0.0                  0.0                  2.0   \n",
       "4                     0.0                  0.0                 10.0   \n",
       "\n",
       "   duracao_relacionada_produto  taxas_rejeicao  taxas_saida  valores_pagina  \n",
       "0                     0.000000            0.20         0.20             0.0  \n",
       "1                    64.000000            0.00         0.10             0.0  \n",
       "2                    -1.000000            0.20         0.20             0.0  \n",
       "3                     2.666667            0.05         0.14             0.0  \n",
       "4                   627.500000            0.02         0.05             0.0  "
      ]
     },
     "execution_count": 11,
     "metadata": {},
     "output_type": "execute_result"
    }
   ],
   "source": [
    "var_continuas.head()"
   ]
  },
  {
   "cell_type": "code",
   "execution_count": 12,
   "metadata": {
    "colab": {
     "base_uri": "https://localhost:8080/",
     "height": 204
    },
    "colab_type": "code",
    "id": "qc8T_sQGPnYz",
    "outputId": "a1746dc6-64eb-4dbc-c1f6-df0f8fabdc08"
   },
   "outputs": [
    {
     "data": {
      "text/html": [
       "<div>\n",
       "<style scoped>\n",
       "    .dataframe tbody tr th:only-of-type {\n",
       "        vertical-align: middle;\n",
       "    }\n",
       "\n",
       "    .dataframe tbody tr th {\n",
       "        vertical-align: top;\n",
       "    }\n",
       "\n",
       "    .dataframe thead th {\n",
       "        text-align: right;\n",
       "    }\n",
       "</style>\n",
       "<table border=\"1\" class=\"dataframe\">\n",
       "  <thead>\n",
       "    <tr style=\"text-align: right;\">\n",
       "      <th></th>\n",
       "      <th>administrativo</th>\n",
       "      <th>informativo</th>\n",
       "      <th>dia_especial</th>\n",
       "      <th>mes</th>\n",
       "      <th>sistemas_operacionais</th>\n",
       "      <th>navegador</th>\n",
       "      <th>regiao</th>\n",
       "      <th>tipo_trafego</th>\n",
       "      <th>tipo_visitante</th>\n",
       "      <th>final_semana</th>\n",
       "      <th>receita</th>\n",
       "    </tr>\n",
       "  </thead>\n",
       "  <tbody>\n",
       "    <tr>\n",
       "      <th>0</th>\n",
       "      <td>0.0</td>\n",
       "      <td>0.0</td>\n",
       "      <td>0.0</td>\n",
       "      <td>Feb</td>\n",
       "      <td>1</td>\n",
       "      <td>1</td>\n",
       "      <td>1</td>\n",
       "      <td>1</td>\n",
       "      <td>Returning_Visitor</td>\n",
       "      <td>False</td>\n",
       "      <td>False</td>\n",
       "    </tr>\n",
       "    <tr>\n",
       "      <th>1</th>\n",
       "      <td>0.0</td>\n",
       "      <td>0.0</td>\n",
       "      <td>0.0</td>\n",
       "      <td>Feb</td>\n",
       "      <td>2</td>\n",
       "      <td>2</td>\n",
       "      <td>1</td>\n",
       "      <td>2</td>\n",
       "      <td>Returning_Visitor</td>\n",
       "      <td>False</td>\n",
       "      <td>False</td>\n",
       "    </tr>\n",
       "    <tr>\n",
       "      <th>2</th>\n",
       "      <td>0.0</td>\n",
       "      <td>0.0</td>\n",
       "      <td>0.0</td>\n",
       "      <td>Feb</td>\n",
       "      <td>4</td>\n",
       "      <td>1</td>\n",
       "      <td>9</td>\n",
       "      <td>3</td>\n",
       "      <td>Returning_Visitor</td>\n",
       "      <td>False</td>\n",
       "      <td>False</td>\n",
       "    </tr>\n",
       "    <tr>\n",
       "      <th>3</th>\n",
       "      <td>0.0</td>\n",
       "      <td>0.0</td>\n",
       "      <td>0.0</td>\n",
       "      <td>Feb</td>\n",
       "      <td>3</td>\n",
       "      <td>2</td>\n",
       "      <td>2</td>\n",
       "      <td>4</td>\n",
       "      <td>Returning_Visitor</td>\n",
       "      <td>False</td>\n",
       "      <td>False</td>\n",
       "    </tr>\n",
       "    <tr>\n",
       "      <th>4</th>\n",
       "      <td>0.0</td>\n",
       "      <td>0.0</td>\n",
       "      <td>0.0</td>\n",
       "      <td>Feb</td>\n",
       "      <td>3</td>\n",
       "      <td>3</td>\n",
       "      <td>1</td>\n",
       "      <td>4</td>\n",
       "      <td>Returning_Visitor</td>\n",
       "      <td>True</td>\n",
       "      <td>False</td>\n",
       "    </tr>\n",
       "  </tbody>\n",
       "</table>\n",
       "</div>"
      ],
      "text/plain": [
       "   administrativo  informativo  dia_especial  mes  sistemas_operacionais  \\\n",
       "0             0.0          0.0           0.0  Feb                      1   \n",
       "1             0.0          0.0           0.0  Feb                      2   \n",
       "2             0.0          0.0           0.0  Feb                      4   \n",
       "3             0.0          0.0           0.0  Feb                      3   \n",
       "4             0.0          0.0           0.0  Feb                      3   \n",
       "\n",
       "   navegador  regiao  tipo_trafego     tipo_visitante  final_semana  receita  \n",
       "0          1       1             1  Returning_Visitor         False    False  \n",
       "1          2       1             2  Returning_Visitor         False    False  \n",
       "2          1       9             3  Returning_Visitor         False    False  \n",
       "3          2       2             4  Returning_Visitor         False    False  \n",
       "4          3       1             4  Returning_Visitor          True    False  "
      ]
     },
     "execution_count": 12,
     "metadata": {},
     "output_type": "execute_result"
    }
   ],
   "source": [
    "var_categoricas.head()"
   ]
  },
  {
   "cell_type": "markdown",
   "metadata": {
    "colab_type": "text",
    "id": "b5at0cdxPxJN"
   },
   "source": [
    "## 4. Visualizações"
   ]
  },
  {
   "cell_type": "code",
   "execution_count": 13,
   "metadata": {
    "colab": {
     "base_uri": "https://localhost:8080/",
     "height": 584
    },
    "colab_type": "code",
    "id": "Cpd373jwPqZT",
    "outputId": "5466b88e-bdab-4e7f-e25c-d1244322998c"
   },
   "outputs": [
    {
     "data": {
      "image/png": "[encoded data removed]",
      "text/plain": [
       "<Figure size 864x576 with 7 Axes>"
      ]
     },
     "metadata": {
      "needs_background": "light"
     },
     "output_type": "display_data"
    }
   ],
   "source": [
    "#Plot das variáveis continuas\n",
    "\n",
    "#Tamanho da área de plotagem\n",
    "fig = plt.figure(figsize=(12,8))\n",
    "\n",
    "for i, col in enumerate(var_continuas):\n",
    "  plt.subplot(3,3,i+1);\n",
    "  df.boxplot(col);\n",
    "  plt.tight_layout()"
   ]
  },
  {
   "cell_type": "code",
   "execution_count": 14,
   "metadata": {
    "colab": {
     "base_uri": "https://localhost:8080/",
     "height": 419
    },
    "colab_type": "code",
    "id": "HRPNutG-R3_Y",
    "outputId": "bebc6c8b-5157-45be-fcd7-dc0b14575df5"
   },
   "outputs": [
    {
     "data": {
      "text/html": [
       "<div>\n",
       "<style scoped>\n",
       "    .dataframe tbody tr th:only-of-type {\n",
       "        vertical-align: middle;\n",
       "    }\n",
       "\n",
       "    .dataframe tbody tr th {\n",
       "        vertical-align: top;\n",
       "    }\n",
       "\n",
       "    .dataframe thead th {\n",
       "        text-align: right;\n",
       "    }\n",
       "</style>\n",
       "<table border=\"1\" class=\"dataframe\">\n",
       "  <thead>\n",
       "    <tr style=\"text-align: right;\">\n",
       "      <th></th>\n",
       "      <th>duracao_administrativa</th>\n",
       "      <th>duracao_informativo</th>\n",
       "      <th>relacionado_produto</th>\n",
       "      <th>duracao_relacionada_produto</th>\n",
       "      <th>taxas_rejeicao</th>\n",
       "      <th>taxas_saida</th>\n",
       "      <th>valores_pagina</th>\n",
       "    </tr>\n",
       "  </thead>\n",
       "  <tbody>\n",
       "    <tr>\n",
       "      <th>0</th>\n",
       "      <td>0.693147</td>\n",
       "      <td>0.693147</td>\n",
       "      <td>1.098612</td>\n",
       "      <td>0.693147</td>\n",
       "      <td>0.788457</td>\n",
       "      <td>0.788457</td>\n",
       "      <td>0.693147</td>\n",
       "    </tr>\n",
       "    <tr>\n",
       "      <th>1</th>\n",
       "      <td>0.693147</td>\n",
       "      <td>0.693147</td>\n",
       "      <td>1.386294</td>\n",
       "      <td>4.189655</td>\n",
       "      <td>0.693147</td>\n",
       "      <td>0.741937</td>\n",
       "      <td>0.693147</td>\n",
       "    </tr>\n",
       "    <tr>\n",
       "      <th>2</th>\n",
       "      <td>0.000000</td>\n",
       "      <td>0.000000</td>\n",
       "      <td>1.098612</td>\n",
       "      <td>0.000000</td>\n",
       "      <td>0.788457</td>\n",
       "      <td>0.788457</td>\n",
       "      <td>0.693147</td>\n",
       "    </tr>\n",
       "    <tr>\n",
       "      <th>3</th>\n",
       "      <td>0.693147</td>\n",
       "      <td>0.693147</td>\n",
       "      <td>1.386294</td>\n",
       "      <td>1.540445</td>\n",
       "      <td>0.717840</td>\n",
       "      <td>0.760806</td>\n",
       "      <td>0.693147</td>\n",
       "    </tr>\n",
       "    <tr>\n",
       "      <th>4</th>\n",
       "      <td>0.693147</td>\n",
       "      <td>0.693147</td>\n",
       "      <td>2.484907</td>\n",
       "      <td>6.444926</td>\n",
       "      <td>0.703098</td>\n",
       "      <td>0.717840</td>\n",
       "      <td>0.693147</td>\n",
       "    </tr>\n",
       "    <tr>\n",
       "      <th>...</th>\n",
       "      <td>...</td>\n",
       "      <td>...</td>\n",
       "      <td>...</td>\n",
       "      <td>...</td>\n",
       "      <td>...</td>\n",
       "      <td>...</td>\n",
       "      <td>...</td>\n",
       "    </tr>\n",
       "    <tr>\n",
       "      <th>12325</th>\n",
       "      <td>4.990433</td>\n",
       "      <td>0.693147</td>\n",
       "      <td>4.007333</td>\n",
       "      <td>7.487617</td>\n",
       "      <td>0.696712</td>\n",
       "      <td>0.707558</td>\n",
       "      <td>2.656176</td>\n",
       "    </tr>\n",
       "    <tr>\n",
       "      <th>12326</th>\n",
       "      <td>0.693147</td>\n",
       "      <td>0.693147</td>\n",
       "      <td>1.945910</td>\n",
       "      <td>6.147934</td>\n",
       "      <td>0.693147</td>\n",
       "      <td>0.703757</td>\n",
       "      <td>0.693147</td>\n",
       "    </tr>\n",
       "    <tr>\n",
       "      <th>12327</th>\n",
       "      <td>0.693147</td>\n",
       "      <td>0.693147</td>\n",
       "      <td>2.079442</td>\n",
       "      <td>5.227090</td>\n",
       "      <td>0.733969</td>\n",
       "      <td>0.735568</td>\n",
       "      <td>0.693147</td>\n",
       "    </tr>\n",
       "    <tr>\n",
       "      <th>12328</th>\n",
       "      <td>4.343805</td>\n",
       "      <td>0.693147</td>\n",
       "      <td>2.833213</td>\n",
       "      <td>5.852202</td>\n",
       "      <td>0.693147</td>\n",
       "      <td>0.703618</td>\n",
       "      <td>0.693147</td>\n",
       "    </tr>\n",
       "    <tr>\n",
       "      <th>12329</th>\n",
       "      <td>0.693147</td>\n",
       "      <td>0.693147</td>\n",
       "      <td>1.609438</td>\n",
       "      <td>3.146305</td>\n",
       "      <td>0.693147</td>\n",
       "      <td>0.725937</td>\n",
       "      <td>0.693147</td>\n",
       "    </tr>\n",
       "  </tbody>\n",
       "</table>\n",
       "<p>12316 rows × 7 columns</p>\n",
       "</div>"
      ],
      "text/plain": [
       "       duracao_administrativa  duracao_informativo  relacionado_produto  \\\n",
       "0                    0.693147             0.693147             1.098612   \n",
       "1                    0.693147             0.693147             1.386294   \n",
       "2                    0.000000             0.000000             1.098612   \n",
       "3                    0.693147             0.693147             1.386294   \n",
       "4                    0.693147             0.693147             2.484907   \n",
       "...                       ...                  ...                  ...   \n",
       "12325                4.990433             0.693147             4.007333   \n",
       "12326                0.693147             0.693147             1.945910   \n",
       "12327                0.693147             0.693147             2.079442   \n",
       "12328                4.343805             0.693147             2.833213   \n",
       "12329                0.693147             0.693147             1.609438   \n",
       "\n",
       "       duracao_relacionada_produto  taxas_rejeicao  taxas_saida  \\\n",
       "0                         0.693147        0.788457     0.788457   \n",
       "1                         4.189655        0.693147     0.741937   \n",
       "2                         0.000000        0.788457     0.788457   \n",
       "3                         1.540445        0.717840     0.760806   \n",
       "4                         6.444926        0.703098     0.717840   \n",
       "...                            ...             ...          ...   \n",
       "12325                     7.487617        0.696712     0.707558   \n",
       "12326                     6.147934        0.693147     0.703757   \n",
       "12327                     5.227090        0.733969     0.735568   \n",
       "12328                     5.852202        0.693147     0.703618   \n",
       "12329                     3.146305        0.693147     0.725937   \n",
       "\n",
       "       valores_pagina  \n",
       "0            0.693147  \n",
       "1            0.693147  \n",
       "2            0.693147  \n",
       "3            0.693147  \n",
       "4            0.693147  \n",
       "...               ...  \n",
       "12325        2.656176  \n",
       "12326        0.693147  \n",
       "12327        0.693147  \n",
       "12328        0.693147  \n",
       "12329        0.693147  \n",
       "\n",
       "[12316 rows x 7 columns]"
      ]
     },
     "execution_count": 14,
     "metadata": {},
     "output_type": "execute_result"
    }
   ],
   "source": [
    "#transformação de log nas variáveis contínuas\n",
    "var_continuas = np.log1p(1+var_continuas)\n",
    "var_continuas"
   ]
  },
  {
   "cell_type": "code",
   "execution_count": 15,
   "metadata": {
    "colab": {
     "base_uri": "https://localhost:8080/",
     "height": 584
    },
    "colab_type": "code",
    "id": "YKYU86z5TAmT",
    "outputId": "23b9d81f-607e-4011-b771-b007f951dcb0"
   },
   "outputs": [
    {
     "data": {
      "image/png": "[encoded data removed]",
      "text/plain": [
       "<Figure size 864x576 with 7 Axes>"
      ]
     },
     "metadata": {
      "needs_background": "light"
     },
     "output_type": "display_data"
    }
   ],
   "source": [
    "#Plot das variáveis continuas\n",
    "\n",
    "#Tamanho da área de plotagem\n",
    "fig = plt.figure(figsize=(12,8))\n",
    "\n",
    "for i, col in enumerate(var_continuas):\n",
    "  plt.subplot(3,3,i+1);\n",
    "  df.boxplot(col);\n",
    "  plt.tight_layout()\n",
    "\n",
    "plt.savefig('boxplot2.png')"
   ]
  },
  {
   "cell_type": "code",
   "execution_count": 16,
   "metadata": {
    "colab": {
     "base_uri": "https://localhost:8080/",
     "height": 685
    },
    "colab_type": "code",
    "id": "FS4oHFWGTJ7p",
    "outputId": "8a48a7b2-37e1-463b-8ac9-c63b6737eef2"
   },
   "outputs": [
    {
     "data": {
      "image/png": "[encoded data removed]",
      "text/plain": [
       "<Figure size 720x720 with 2 Axes>"
      ]
     },
     "metadata": {
      "needs_background": "light"
     },
     "output_type": "display_data"
    }
   ],
   "source": [
    "#Área de plotagem\n",
    "plt.figure(figsize=(10,10))\n",
    "\n",
    "matrix = df[['duracao_administrativa','duracao_informativo','relacionado_produto',\n",
    "             'duracao_relacionada_produto','taxas_rejeicao','taxas_saida',\n",
    "             'valores_pagina','receita']]\n",
    "# Matriz de Correlação\n",
    "ax = sns.heatmap(matrix.corr(), vmax=1., square=True, annot=True)\n",
    "ax = ax\n"
   ]
  },
  {
   "cell_type": "code",
   "execution_count": 17,
   "metadata": {
    "colab": {
     "base_uri": "https://localhost:8080/",
     "height": 316
    },
    "colab_type": "code",
    "id": "DlV2bxaGUC2x",
    "outputId": "bbf4991d-91b6-495b-926d-d540b29d829c"
   },
   "outputs": [
    {
     "data": {
      "text/plain": [
       "Text(0.5, 1.0, 'Vendas ou Não')"
      ]
     },
     "execution_count": 17,
     "metadata": {},
     "output_type": "execute_result"
    },
    {
     "data": {
      "image/png": "[encoded data removed]",
      "text/plain": [
       "<Figure size 432x288 with 1 Axes>"
      ]
     },
     "metadata": {
      "needs_background": "light"
     },
     "output_type": "display_data"
    }
   ],
   "source": [
    "ax = sns.countplot(var_categoricas['receita'])\n",
    "plt.title('Vendas ou Não', size=18)\n"
   ]
  },
  {
   "cell_type": "code",
   "execution_count": 18,
   "metadata": {
    "colab": {
     "base_uri": "https://localhost:8080/",
     "height": 318
    },
    "colab_type": "code",
    "id": "GC49s4lZXsty",
    "outputId": "67370e0b-2f3f-433c-c5e4-d6c071bc5664"
   },
   "outputs": [
    {
     "data": {
      "text/plain": [
       "Text(0.5, 1.0, 'Tipo de Visitantes')"
      ]
     },
     "execution_count": 18,
     "metadata": {},
     "output_type": "execute_result"
    },
    {
     "data": {
      "image/png": "[encoded data removed]",
      "text/plain": [
       "<Figure size 432x288 with 1 Axes>"
      ]
     },
     "metadata": {
      "needs_background": "light"
     },
     "output_type": "display_data"
    }
   ],
   "source": [
    "#Tipo de Visitantes\n",
    "ax = sns.countplot(var_categoricas['tipo_visitante'])\n",
    "plt.title('Tipo de Visitantes', size=18)"
   ]
  },
  {
   "cell_type": "code",
   "execution_count": 19,
   "metadata": {
    "colab": {
     "base_uri": "https://localhost:8080/",
     "height": 373
    },
    "colab_type": "code",
    "id": "CpjD3lcDl2yD",
    "outputId": "7d9fa9e4-28df-47ab-a651-2c6b55f9b2d0"
   },
   "outputs": [
    {
     "data": {
      "text/plain": [
       "<matplotlib.axes._subplots.AxesSubplot at 0x28dcadc7908>"
      ]
     },
     "execution_count": 19,
     "metadata": {},
     "output_type": "execute_result"
    },
    {
     "data": {
      "image/png": "[encoded data removed]",
      "text/plain": [
       "<Figure size 432x288 with 1 Axes>"
      ]
     },
     "metadata": {
      "needs_background": "light"
     },
     "output_type": "display_data"
    }
   ],
   "source": [
    "pd.crosstab(df['tipo_visitante'], df['receita']).plot(kind='bar',\n",
    "                                                      stacked=True)"
   ]
  },
  {
   "cell_type": "markdown",
   "metadata": {
    "colab_type": "text",
    "id": "RwTgC94qAaYJ"
   },
   "source": [
    "O visitantes recorretes são os que mais concretizam as compras, aparentimente normal uma vez que o usuário já vistou o site antes gostou do que viu e retornou efitivando a compra."
   ]
  },
  {
   "cell_type": "code",
   "execution_count": 20,
   "metadata": {
    "colab": {
     "base_uri": "https://localhost:8080/",
     "height": 312
    },
    "colab_type": "code",
    "id": "LqmjjJRpl2p2",
    "outputId": "8a425180-d63d-47fb-97d7-da1f60daf5f5"
   },
   "outputs": [
    {
     "data": {
      "text/plain": [
       "<matplotlib.axes._subplots.AxesSubplot at 0x28dcae25a58>"
      ]
     },
     "execution_count": 20,
     "metadata": {},
     "output_type": "execute_result"
    },
    {
     "data": {
      "image/png": "[encoded data removed]",
      "text/plain": [
       "<Figure size 432x288 with 1 Axes>"
      ]
     },
     "metadata": {
      "needs_background": "light"
     },
     "output_type": "display_data"
    }
   ],
   "source": [
    "#Gráfico em relação a semana\n",
    "pd.crosstab(df['final_semana'], df['receita']).plot(kind='bar',\n",
    "                                                      stacked=True)"
   ]
  },
  {
   "cell_type": "markdown",
   "metadata": {
    "colab_type": "text",
    "id": "cqQkV6EiBgnO"
   },
   "source": [
    "Existe uma efetividade nas compras mais durante a semana."
   ]
  },
  {
   "cell_type": "code",
   "execution_count": 21,
   "metadata": {
    "colab": {
     "base_uri": "https://localhost:8080/",
     "height": 316
    },
    "colab_type": "code",
    "id": "ZYQWRKvTl2Wo",
    "outputId": "1ac1b47e-74af-4db0-d0af-edb27f22ea23"
   },
   "outputs": [
    {
     "data": {
      "text/plain": [
       "Text(0.5, 0, 'Sistema Operacionais')"
      ]
     },
     "execution_count": 21,
     "metadata": {},
     "output_type": "execute_result"
    },
    {
     "data": {
      "image/png": "[encoded data removed]",
      "text/plain": [
       "<Figure size 432x288 with 1 Axes>"
      ]
     },
     "metadata": {
      "needs_background": "light"
     },
     "output_type": "display_data"
    }
   ],
   "source": [
    "# Gráfico de Sistema Operacional\n",
    "\n",
    "sns.countplot(df['sistemas_operacionais'])\n",
    "plt.title('Tipo de Sistema Operacionais', size=18)\n",
    "plt.xlabel('Sistema Operacionais')"
   ]
  },
  {
   "cell_type": "code",
   "execution_count": 22,
   "metadata": {
    "colab": {
     "base_uri": "https://localhost:8080/",
     "height": 294
    },
    "colab_type": "code",
    "id": "YYVhpUWuDHBe",
    "outputId": "7f822679-95ad-4e63-ab25-308b0760a636"
   },
   "outputs": [
    {
     "data": {
      "text/plain": [
       "<matplotlib.axes._subplots.AxesSubplot at 0x28dcb034358>"
      ]
     },
     "execution_count": 22,
     "metadata": {},
     "output_type": "execute_result"
    },
    {
     "data": {
      "image/png": "[encoded data removed]",
      "text/plain": [
       "<Figure size 432x288 with 1 Axes>"
      ]
     },
     "metadata": {
      "needs_background": "light"
     },
     "output_type": "display_data"
    }
   ],
   "source": [
    "pd.crosstab(df['sistemas_operacionais'], df['receita']).plot(kind='bar',\n",
    "                                                      stacked=True)"
   ]
  },
  {
   "cell_type": "markdown",
   "metadata": {
    "colab_type": "text",
    "id": "CG6sEqNjDXty"
   },
   "source": [
    "O sistema operacional tipo 2 além de possuir o maior volume de acesso também possui o maior numero de vendas.\n",
    "\n",
    "obs. Requer maior atenção para a equipe de desevolvimento front e back end, pois uma falha pode impactar fortimente na receita."
   ]
  },
  {
   "cell_type": "code",
   "execution_count": 23,
   "metadata": {
    "colab": {
     "base_uri": "https://localhost:8080/",
     "height": 317
    },
    "colab_type": "code",
    "id": "iR1nNOq_IGjS",
    "outputId": "1fc61112-ae95-487c-82c0-cf77447aaab5"
   },
   "outputs": [
    {
     "data": {
      "text/plain": [
       "Text(0.5, 0, 'Tráfego')"
      ]
     },
     "execution_count": 23,
     "metadata": {},
     "output_type": "execute_result"
    },
    {
     "data": {
      "image/png": "[encoded data removed]",
      "text/plain": [
       "<Figure size 432x288 with 1 Axes>"
      ]
     },
     "metadata": {
      "needs_background": "light"
     },
     "output_type": "display_data"
    }
   ],
   "source": [
    "# Tipo de Trafego\n",
    "\n",
    "sns.countplot(df['tipo_trafego'], palette=\"OrRd\")\n",
    "plt.title('Tipo de Tráfego', size=18)\n",
    "plt.xlabel('Tráfego')"
   ]
  },
  {
   "cell_type": "markdown",
   "metadata": {
    "colab_type": "text",
    "id": "NTh8eIPSm9rY"
   },
   "source": [
    "## Pré-Processamento dos Dados"
   ]
  },
  {
   "cell_type": "code",
   "execution_count": 24,
   "metadata": {
    "colab": {
     "base_uri": "https://localhost:8080/",
     "height": 224
    },
    "colab_type": "code",
    "id": "zwLBKMHbmzIO",
    "outputId": "593f7234-c2c3-44d5-a888-03fe17dba7a5"
   },
   "outputs": [
    {
     "data": {
      "text/html": [
       "<div>\n",
       "<style scoped>\n",
       "    .dataframe tbody tr th:only-of-type {\n",
       "        vertical-align: middle;\n",
       "    }\n",
       "\n",
       "    .dataframe tbody tr th {\n",
       "        vertical-align: top;\n",
       "    }\n",
       "\n",
       "    .dataframe thead th {\n",
       "        text-align: right;\n",
       "    }\n",
       "</style>\n",
       "<table border=\"1\" class=\"dataframe\">\n",
       "  <thead>\n",
       "    <tr style=\"text-align: right;\">\n",
       "      <th></th>\n",
       "      <th>administrativo</th>\n",
       "      <th>duracao_administrativa</th>\n",
       "      <th>informativo</th>\n",
       "      <th>duracao_informativo</th>\n",
       "      <th>relacionado_produto</th>\n",
       "      <th>duracao_relacionada_produto</th>\n",
       "      <th>taxas_rejeicao</th>\n",
       "      <th>taxas_saida</th>\n",
       "      <th>valores_pagina</th>\n",
       "      <th>dia_especial</th>\n",
       "      <th>mes</th>\n",
       "      <th>sistemas_operacionais</th>\n",
       "      <th>navegador</th>\n",
       "      <th>regiao</th>\n",
       "      <th>tipo_trafego</th>\n",
       "      <th>tipo_visitante</th>\n",
       "      <th>final_semana</th>\n",
       "      <th>receita</th>\n",
       "    </tr>\n",
       "  </thead>\n",
       "  <tbody>\n",
       "    <tr>\n",
       "      <th>0</th>\n",
       "      <td>0.0</td>\n",
       "      <td>0.0</td>\n",
       "      <td>0.0</td>\n",
       "      <td>0.0</td>\n",
       "      <td>1.0</td>\n",
       "      <td>0.000000</td>\n",
       "      <td>0.20</td>\n",
       "      <td>0.20</td>\n",
       "      <td>0.0</td>\n",
       "      <td>0.0</td>\n",
       "      <td>Feb</td>\n",
       "      <td>1</td>\n",
       "      <td>1</td>\n",
       "      <td>1</td>\n",
       "      <td>1</td>\n",
       "      <td>Returning_Visitor</td>\n",
       "      <td>False</td>\n",
       "      <td>False</td>\n",
       "    </tr>\n",
       "    <tr>\n",
       "      <th>1</th>\n",
       "      <td>0.0</td>\n",
       "      <td>0.0</td>\n",
       "      <td>0.0</td>\n",
       "      <td>0.0</td>\n",
       "      <td>2.0</td>\n",
       "      <td>64.000000</td>\n",
       "      <td>0.00</td>\n",
       "      <td>0.10</td>\n",
       "      <td>0.0</td>\n",
       "      <td>0.0</td>\n",
       "      <td>Feb</td>\n",
       "      <td>2</td>\n",
       "      <td>2</td>\n",
       "      <td>1</td>\n",
       "      <td>2</td>\n",
       "      <td>Returning_Visitor</td>\n",
       "      <td>False</td>\n",
       "      <td>False</td>\n",
       "    </tr>\n",
       "    <tr>\n",
       "      <th>2</th>\n",
       "      <td>0.0</td>\n",
       "      <td>-1.0</td>\n",
       "      <td>0.0</td>\n",
       "      <td>-1.0</td>\n",
       "      <td>1.0</td>\n",
       "      <td>-1.000000</td>\n",
       "      <td>0.20</td>\n",
       "      <td>0.20</td>\n",
       "      <td>0.0</td>\n",
       "      <td>0.0</td>\n",
       "      <td>Feb</td>\n",
       "      <td>4</td>\n",
       "      <td>1</td>\n",
       "      <td>9</td>\n",
       "      <td>3</td>\n",
       "      <td>Returning_Visitor</td>\n",
       "      <td>False</td>\n",
       "      <td>False</td>\n",
       "    </tr>\n",
       "    <tr>\n",
       "      <th>3</th>\n",
       "      <td>0.0</td>\n",
       "      <td>0.0</td>\n",
       "      <td>0.0</td>\n",
       "      <td>0.0</td>\n",
       "      <td>2.0</td>\n",
       "      <td>2.666667</td>\n",
       "      <td>0.05</td>\n",
       "      <td>0.14</td>\n",
       "      <td>0.0</td>\n",
       "      <td>0.0</td>\n",
       "      <td>Feb</td>\n",
       "      <td>3</td>\n",
       "      <td>2</td>\n",
       "      <td>2</td>\n",
       "      <td>4</td>\n",
       "      <td>Returning_Visitor</td>\n",
       "      <td>False</td>\n",
       "      <td>False</td>\n",
       "    </tr>\n",
       "    <tr>\n",
       "      <th>4</th>\n",
       "      <td>0.0</td>\n",
       "      <td>0.0</td>\n",
       "      <td>0.0</td>\n",
       "      <td>0.0</td>\n",
       "      <td>10.0</td>\n",
       "      <td>627.500000</td>\n",
       "      <td>0.02</td>\n",
       "      <td>0.05</td>\n",
       "      <td>0.0</td>\n",
       "      <td>0.0</td>\n",
       "      <td>Feb</td>\n",
       "      <td>3</td>\n",
       "      <td>3</td>\n",
       "      <td>1</td>\n",
       "      <td>4</td>\n",
       "      <td>Returning_Visitor</td>\n",
       "      <td>True</td>\n",
       "      <td>False</td>\n",
       "    </tr>\n",
       "  </tbody>\n",
       "</table>\n",
       "</div>"
      ],
      "text/plain": [
       "   administrativo  duracao_administrativa  informativo  duracao_informativo  \\\n",
       "0             0.0                     0.0          0.0                  0.0   \n",
       "1             0.0                     0.0          0.0                  0.0   \n",
       "2             0.0                    -1.0          0.0                 -1.0   \n",
       "3             0.0                     0.0          0.0                  0.0   \n",
       "4             0.0                     0.0          0.0                  0.0   \n",
       "\n",
       "   relacionado_produto  duracao_relacionada_produto  taxas_rejeicao  \\\n",
       "0                  1.0                     0.000000            0.20   \n",
       "1                  2.0                    64.000000            0.00   \n",
       "2                  1.0                    -1.000000            0.20   \n",
       "3                  2.0                     2.666667            0.05   \n",
       "4                 10.0                   627.500000            0.02   \n",
       "\n",
       "   taxas_saida  valores_pagina  dia_especial  mes  sistemas_operacionais  \\\n",
       "0         0.20             0.0           0.0  Feb                      1   \n",
       "1         0.10             0.0           0.0  Feb                      2   \n",
       "2         0.20             0.0           0.0  Feb                      4   \n",
       "3         0.14             0.0           0.0  Feb                      3   \n",
       "4         0.05             0.0           0.0  Feb                      3   \n",
       "\n",
       "   navegador  regiao  tipo_trafego     tipo_visitante  final_semana  receita  \n",
       "0          1       1             1  Returning_Visitor         False    False  \n",
       "1          2       1             2  Returning_Visitor         False    False  \n",
       "2          1       9             3  Returning_Visitor         False    False  \n",
       "3          2       2             4  Returning_Visitor         False    False  \n",
       "4          3       1             4  Returning_Visitor          True    False  "
      ]
     },
     "execution_count": 24,
     "metadata": {},
     "output_type": "execute_result"
    }
   ],
   "source": [
    "df_original.head()"
   ]
  },
  {
   "cell_type": "code",
   "execution_count": 25,
   "metadata": {
    "colab": {},
    "colab_type": "code",
    "id": "cKHLy5tknJVY"
   },
   "outputs": [],
   "source": [
    "# Criar o encoder\n",
    "lb = LabelEncoder()\n",
    "\n",
    "#Aplica  o encoder nas variáveis que estão como string\n",
    "df_original['mes'] = lb.fit_transform(df_original['mes'])\n",
    "df_original['tipo_visitante'] = lb.fit_transform(df_original['tipo_visitante'])\n",
    "\n",
    "# Remove valores missing eventualmente gerados\n",
    "df_original.dropna(inplace = True)"
   ]
  },
  {
   "cell_type": "code",
   "execution_count": 26,
   "metadata": {
    "colab": {
     "base_uri": "https://localhost:8080/",
     "height": 224
    },
    "colab_type": "code",
    "id": "acPvOACInJK6",
    "outputId": "f3fd500f-0d7e-4ee3-f1f9-8ba476966b34"
   },
   "outputs": [
    {
     "data": {
      "text/html": [
       "<div>\n",
       "<style scoped>\n",
       "    .dataframe tbody tr th:only-of-type {\n",
       "        vertical-align: middle;\n",
       "    }\n",
       "\n",
       "    .dataframe tbody tr th {\n",
       "        vertical-align: top;\n",
       "    }\n",
       "\n",
       "    .dataframe thead th {\n",
       "        text-align: right;\n",
       "    }\n",
       "</style>\n",
       "<table border=\"1\" class=\"dataframe\">\n",
       "  <thead>\n",
       "    <tr style=\"text-align: right;\">\n",
       "      <th></th>\n",
       "      <th>administrativo</th>\n",
       "      <th>duracao_administrativa</th>\n",
       "      <th>informativo</th>\n",
       "      <th>duracao_informativo</th>\n",
       "      <th>relacionado_produto</th>\n",
       "      <th>duracao_relacionada_produto</th>\n",
       "      <th>taxas_rejeicao</th>\n",
       "      <th>taxas_saida</th>\n",
       "      <th>valores_pagina</th>\n",
       "      <th>dia_especial</th>\n",
       "      <th>mes</th>\n",
       "      <th>sistemas_operacionais</th>\n",
       "      <th>navegador</th>\n",
       "      <th>regiao</th>\n",
       "      <th>tipo_trafego</th>\n",
       "      <th>tipo_visitante</th>\n",
       "      <th>final_semana</th>\n",
       "      <th>receita</th>\n",
       "    </tr>\n",
       "  </thead>\n",
       "  <tbody>\n",
       "    <tr>\n",
       "      <th>0</th>\n",
       "      <td>0.0</td>\n",
       "      <td>0.0</td>\n",
       "      <td>0.0</td>\n",
       "      <td>0.0</td>\n",
       "      <td>1.0</td>\n",
       "      <td>0.000000</td>\n",
       "      <td>0.20</td>\n",
       "      <td>0.20</td>\n",
       "      <td>0.0</td>\n",
       "      <td>0.0</td>\n",
       "      <td>2</td>\n",
       "      <td>1</td>\n",
       "      <td>1</td>\n",
       "      <td>1</td>\n",
       "      <td>1</td>\n",
       "      <td>2</td>\n",
       "      <td>False</td>\n",
       "      <td>False</td>\n",
       "    </tr>\n",
       "    <tr>\n",
       "      <th>1</th>\n",
       "      <td>0.0</td>\n",
       "      <td>0.0</td>\n",
       "      <td>0.0</td>\n",
       "      <td>0.0</td>\n",
       "      <td>2.0</td>\n",
       "      <td>64.000000</td>\n",
       "      <td>0.00</td>\n",
       "      <td>0.10</td>\n",
       "      <td>0.0</td>\n",
       "      <td>0.0</td>\n",
       "      <td>2</td>\n",
       "      <td>2</td>\n",
       "      <td>2</td>\n",
       "      <td>1</td>\n",
       "      <td>2</td>\n",
       "      <td>2</td>\n",
       "      <td>False</td>\n",
       "      <td>False</td>\n",
       "    </tr>\n",
       "    <tr>\n",
       "      <th>2</th>\n",
       "      <td>0.0</td>\n",
       "      <td>-1.0</td>\n",
       "      <td>0.0</td>\n",
       "      <td>-1.0</td>\n",
       "      <td>1.0</td>\n",
       "      <td>-1.000000</td>\n",
       "      <td>0.20</td>\n",
       "      <td>0.20</td>\n",
       "      <td>0.0</td>\n",
       "      <td>0.0</td>\n",
       "      <td>2</td>\n",
       "      <td>4</td>\n",
       "      <td>1</td>\n",
       "      <td>9</td>\n",
       "      <td>3</td>\n",
       "      <td>2</td>\n",
       "      <td>False</td>\n",
       "      <td>False</td>\n",
       "    </tr>\n",
       "    <tr>\n",
       "      <th>3</th>\n",
       "      <td>0.0</td>\n",
       "      <td>0.0</td>\n",
       "      <td>0.0</td>\n",
       "      <td>0.0</td>\n",
       "      <td>2.0</td>\n",
       "      <td>2.666667</td>\n",
       "      <td>0.05</td>\n",
       "      <td>0.14</td>\n",
       "      <td>0.0</td>\n",
       "      <td>0.0</td>\n",
       "      <td>2</td>\n",
       "      <td>3</td>\n",
       "      <td>2</td>\n",
       "      <td>2</td>\n",
       "      <td>4</td>\n",
       "      <td>2</td>\n",
       "      <td>False</td>\n",
       "      <td>False</td>\n",
       "    </tr>\n",
       "    <tr>\n",
       "      <th>4</th>\n",
       "      <td>0.0</td>\n",
       "      <td>0.0</td>\n",
       "      <td>0.0</td>\n",
       "      <td>0.0</td>\n",
       "      <td>10.0</td>\n",
       "      <td>627.500000</td>\n",
       "      <td>0.02</td>\n",
       "      <td>0.05</td>\n",
       "      <td>0.0</td>\n",
       "      <td>0.0</td>\n",
       "      <td>2</td>\n",
       "      <td>3</td>\n",
       "      <td>3</td>\n",
       "      <td>1</td>\n",
       "      <td>4</td>\n",
       "      <td>2</td>\n",
       "      <td>True</td>\n",
       "      <td>False</td>\n",
       "    </tr>\n",
       "  </tbody>\n",
       "</table>\n",
       "</div>"
      ],
      "text/plain": [
       "   administrativo  duracao_administrativa  informativo  duracao_informativo  \\\n",
       "0             0.0                     0.0          0.0                  0.0   \n",
       "1             0.0                     0.0          0.0                  0.0   \n",
       "2             0.0                    -1.0          0.0                 -1.0   \n",
       "3             0.0                     0.0          0.0                  0.0   \n",
       "4             0.0                     0.0          0.0                  0.0   \n",
       "\n",
       "   relacionado_produto  duracao_relacionada_produto  taxas_rejeicao  \\\n",
       "0                  1.0                     0.000000            0.20   \n",
       "1                  2.0                    64.000000            0.00   \n",
       "2                  1.0                    -1.000000            0.20   \n",
       "3                  2.0                     2.666667            0.05   \n",
       "4                 10.0                   627.500000            0.02   \n",
       "\n",
       "   taxas_saida  valores_pagina  dia_especial  mes  sistemas_operacionais  \\\n",
       "0         0.20             0.0           0.0    2                      1   \n",
       "1         0.10             0.0           0.0    2                      2   \n",
       "2         0.20             0.0           0.0    2                      4   \n",
       "3         0.14             0.0           0.0    2                      3   \n",
       "4         0.05             0.0           0.0    2                      3   \n",
       "\n",
       "   navegador  regiao  tipo_trafego  tipo_visitante  final_semana  receita  \n",
       "0          1       1             1               2         False    False  \n",
       "1          2       1             2               2         False    False  \n",
       "2          1       9             3               2         False    False  \n",
       "3          2       2             4               2         False    False  \n",
       "4          3       1             4               2          True    False  "
      ]
     },
     "execution_count": 26,
     "metadata": {},
     "output_type": "execute_result"
    }
   ],
   "source": [
    "df_original.head()"
   ]
  },
  {
   "cell_type": "code",
   "execution_count": 27,
   "metadata": {
    "colab": {
     "base_uri": "https://localhost:8080/",
     "height": 34
    },
    "colab_type": "code",
    "id": "V_QP1-yXnJEJ",
    "outputId": "11ca2523-5664-4568-ce0b-4c78ec4a6229"
   },
   "outputs": [
    {
     "data": {
      "text/plain": [
       "(12316, 18)"
      ]
     },
     "execution_count": 27,
     "metadata": {},
     "output_type": "execute_result"
    }
   ],
   "source": [
    "df_original.shape"
   ]
  },
  {
   "cell_type": "code",
   "execution_count": 28,
   "metadata": {
    "colab": {
     "base_uri": "https://localhost:8080/",
     "height": 68
    },
    "colab_type": "code",
    "id": "uXv75ULdIGgZ",
    "outputId": "d8322451-54a4-460a-f69b-9b9685b5b68e"
   },
   "outputs": [
    {
     "data": {
      "text/plain": [
       "False    10408\n",
       "True      1908\n",
       "Name: receita, dtype: int64"
      ]
     },
     "execution_count": 28,
     "metadata": {},
     "output_type": "execute_result"
    }
   ],
   "source": [
    "#verificando se a variável resposta está Balanceada\n",
    "target_count = df_original['receita'].value_counts()\n",
    "target_count"
   ]
  },
  {
   "cell_type": "code",
   "execution_count": 29,
   "metadata": {
    "colab": {
     "base_uri": "https://localhost:8080/",
     "height": 299
    },
    "colab_type": "code",
    "id": "oqjiH3b7IGcJ",
    "outputId": "5df21134-9314-4add-96a4-0b507988ae88"
   },
   "outputs": [
    {
     "data": {
      "image/png": "[encoded data removed]",
      "text/plain": [
       "<Figure size 432x288 with 1 Axes>"
      ]
     },
     "metadata": {
      "needs_background": "light"
     },
     "output_type": "display_data"
    }
   ],
   "source": [
    "sns.countplot(df_original['receita'], palette=\"OrRd\")\n",
    "plt.box(False)\n",
    "plt.title('Contagem de Classes', size=18)\n",
    "plt.xlabel('Receita por Sessão')\n",
    "plt.ylabel('Contagem de Sessão')\n",
    "plt.show()"
   ]
  },
  {
   "cell_type": "markdown",
   "metadata": {
    "colab_type": "text",
    "id": "ONZ_glM1LTl_"
   },
   "source": [
    "Nossa Variável Receita está totalmente desbalanceada, para resolver esse problema usarei a abordagem **Imblearn**\n",
    "\n",
    "https://imbalanced-learn.readthedocs.io/en/stable/generated/imblearn.over_sampling.SMOTE.html\n",
    "\n",
    "A proporção desejada do número de amostras na classe minoritária sobre o número de amostras na classe majoritária após a nova amostragem. "
   ]
  },
  {
   "cell_type": "code",
   "execution_count": 30,
   "metadata": {
    "colab": {},
    "colab_type": "code",
    "id": "1sE6hUR4IGRT"
   },
   "outputs": [],
   "source": [
    "#Instalar e importar o pacote imblern\n",
    "!pip install -q imblearn\n",
    "import imblearn"
   ]
  },
  {
   "cell_type": "code",
   "execution_count": 31,
   "metadata": {
    "colab": {
     "base_uri": "https://localhost:8080/",
     "height": 224
    },
    "colab_type": "code",
    "id": "WARRtEsdOU1x",
    "outputId": "c429e7c5-b81f-4def-f94d-3c768ff7c2a0"
   },
   "outputs": [
    {
     "data": {
      "text/html": [
       "<div>\n",
       "<style scoped>\n",
       "    .dataframe tbody tr th:only-of-type {\n",
       "        vertical-align: middle;\n",
       "    }\n",
       "\n",
       "    .dataframe tbody tr th {\n",
       "        vertical-align: top;\n",
       "    }\n",
       "\n",
       "    .dataframe thead th {\n",
       "        text-align: right;\n",
       "    }\n",
       "</style>\n",
       "<table border=\"1\" class=\"dataframe\">\n",
       "  <thead>\n",
       "    <tr style=\"text-align: right;\">\n",
       "      <th></th>\n",
       "      <th>administrativo</th>\n",
       "      <th>duracao_administrativa</th>\n",
       "      <th>informativo</th>\n",
       "      <th>duracao_informativo</th>\n",
       "      <th>relacionado_produto</th>\n",
       "      <th>duracao_relacionada_produto</th>\n",
       "      <th>taxas_rejeicao</th>\n",
       "      <th>taxas_saida</th>\n",
       "      <th>valores_pagina</th>\n",
       "      <th>dia_especial</th>\n",
       "      <th>mes</th>\n",
       "      <th>sistemas_operacionais</th>\n",
       "      <th>navegador</th>\n",
       "      <th>regiao</th>\n",
       "      <th>tipo_trafego</th>\n",
       "      <th>tipo_visitante</th>\n",
       "      <th>final_semana</th>\n",
       "    </tr>\n",
       "  </thead>\n",
       "  <tbody>\n",
       "    <tr>\n",
       "      <th>0</th>\n",
       "      <td>0.0</td>\n",
       "      <td>0.0</td>\n",
       "      <td>0.0</td>\n",
       "      <td>0.0</td>\n",
       "      <td>1.0</td>\n",
       "      <td>0.000000</td>\n",
       "      <td>0.20</td>\n",
       "      <td>0.20</td>\n",
       "      <td>0.0</td>\n",
       "      <td>0.0</td>\n",
       "      <td>2</td>\n",
       "      <td>1</td>\n",
       "      <td>1</td>\n",
       "      <td>1</td>\n",
       "      <td>1</td>\n",
       "      <td>2</td>\n",
       "      <td>False</td>\n",
       "    </tr>\n",
       "    <tr>\n",
       "      <th>1</th>\n",
       "      <td>0.0</td>\n",
       "      <td>0.0</td>\n",
       "      <td>0.0</td>\n",
       "      <td>0.0</td>\n",
       "      <td>2.0</td>\n",
       "      <td>64.000000</td>\n",
       "      <td>0.00</td>\n",
       "      <td>0.10</td>\n",
       "      <td>0.0</td>\n",
       "      <td>0.0</td>\n",
       "      <td>2</td>\n",
       "      <td>2</td>\n",
       "      <td>2</td>\n",
       "      <td>1</td>\n",
       "      <td>2</td>\n",
       "      <td>2</td>\n",
       "      <td>False</td>\n",
       "    </tr>\n",
       "    <tr>\n",
       "      <th>2</th>\n",
       "      <td>0.0</td>\n",
       "      <td>-1.0</td>\n",
       "      <td>0.0</td>\n",
       "      <td>-1.0</td>\n",
       "      <td>1.0</td>\n",
       "      <td>-1.000000</td>\n",
       "      <td>0.20</td>\n",
       "      <td>0.20</td>\n",
       "      <td>0.0</td>\n",
       "      <td>0.0</td>\n",
       "      <td>2</td>\n",
       "      <td>4</td>\n",
       "      <td>1</td>\n",
       "      <td>9</td>\n",
       "      <td>3</td>\n",
       "      <td>2</td>\n",
       "      <td>False</td>\n",
       "    </tr>\n",
       "    <tr>\n",
       "      <th>3</th>\n",
       "      <td>0.0</td>\n",
       "      <td>0.0</td>\n",
       "      <td>0.0</td>\n",
       "      <td>0.0</td>\n",
       "      <td>2.0</td>\n",
       "      <td>2.666667</td>\n",
       "      <td>0.05</td>\n",
       "      <td>0.14</td>\n",
       "      <td>0.0</td>\n",
       "      <td>0.0</td>\n",
       "      <td>2</td>\n",
       "      <td>3</td>\n",
       "      <td>2</td>\n",
       "      <td>2</td>\n",
       "      <td>4</td>\n",
       "      <td>2</td>\n",
       "      <td>False</td>\n",
       "    </tr>\n",
       "    <tr>\n",
       "      <th>4</th>\n",
       "      <td>0.0</td>\n",
       "      <td>0.0</td>\n",
       "      <td>0.0</td>\n",
       "      <td>0.0</td>\n",
       "      <td>10.0</td>\n",
       "      <td>627.500000</td>\n",
       "      <td>0.02</td>\n",
       "      <td>0.05</td>\n",
       "      <td>0.0</td>\n",
       "      <td>0.0</td>\n",
       "      <td>2</td>\n",
       "      <td>3</td>\n",
       "      <td>3</td>\n",
       "      <td>1</td>\n",
       "      <td>4</td>\n",
       "      <td>2</td>\n",
       "      <td>True</td>\n",
       "    </tr>\n",
       "  </tbody>\n",
       "</table>\n",
       "</div>"
      ],
      "text/plain": [
       "   administrativo  duracao_administrativa  informativo  duracao_informativo  \\\n",
       "0             0.0                     0.0          0.0                  0.0   \n",
       "1             0.0                     0.0          0.0                  0.0   \n",
       "2             0.0                    -1.0          0.0                 -1.0   \n",
       "3             0.0                     0.0          0.0                  0.0   \n",
       "4             0.0                     0.0          0.0                  0.0   \n",
       "\n",
       "   relacionado_produto  duracao_relacionada_produto  taxas_rejeicao  \\\n",
       "0                  1.0                     0.000000            0.20   \n",
       "1                  2.0                    64.000000            0.00   \n",
       "2                  1.0                    -1.000000            0.20   \n",
       "3                  2.0                     2.666667            0.05   \n",
       "4                 10.0                   627.500000            0.02   \n",
       "\n",
       "   taxas_saida  valores_pagina  dia_especial  mes  sistemas_operacionais  \\\n",
       "0         0.20             0.0           0.0    2                      1   \n",
       "1         0.10             0.0           0.0    2                      2   \n",
       "2         0.20             0.0           0.0    2                      4   \n",
       "3         0.14             0.0           0.0    2                      3   \n",
       "4         0.05             0.0           0.0    2                      3   \n",
       "\n",
       "   navegador  regiao  tipo_trafego  tipo_visitante  final_semana  \n",
       "0          1       1             1               2         False  \n",
       "1          2       1             2               2         False  \n",
       "2          1       9             3               2         False  \n",
       "3          2       2             4               2         False  \n",
       "4          3       1             4               2          True  "
      ]
     },
     "execution_count": 31,
     "metadata": {},
     "output_type": "execute_result"
    }
   ],
   "source": [
    "# Variáveis Explicativa\n",
    "df_original.iloc[:, 0:17].head()"
   ]
  },
  {
   "cell_type": "code",
   "execution_count": 32,
   "metadata": {
    "colab": {
     "base_uri": "https://localhost:8080/",
     "height": 119
    },
    "colab_type": "code",
    "id": "l4sxXDtPOogn",
    "outputId": "a8b4f44f-574f-4273-d22f-cedecb835be2"
   },
   "outputs": [
    {
     "data": {
      "text/plain": [
       "0    False\n",
       "1    False\n",
       "2    False\n",
       "3    False\n",
       "4    False\n",
       "Name: receita, dtype: bool"
      ]
     },
     "execution_count": 32,
     "metadata": {},
     "output_type": "execute_result"
    }
   ],
   "source": [
    "# Variáveis Target\n",
    "df_original.iloc[:, -1].head()"
   ]
  },
  {
   "cell_type": "code",
   "execution_count": 33,
   "metadata": {
    "colab": {},
    "colab_type": "code",
    "id": "FajtsBxxOyCD"
   },
   "outputs": [],
   "source": [
    "#importa a função\n",
    "from imblearn.over_sampling import SMOTE\n",
    "\n",
    "seed = 100\n",
    "\n",
    "#separa X e y\n",
    "X = df_original.iloc[:,0:17]\n",
    "y = df_original.iloc[:,-1]\n",
    "\n",
    "#cria o balanceador SMOTE\n",
    "smote_bal = SMOTE(random_state=seed)\n",
    "\n",
    "#aplica o balanceador\n",
    "X_res, y_res = smote_bal.fit_resample(X, y)"
   ]
  },
  {
   "cell_type": "code",
   "execution_count": 34,
   "metadata": {
    "colab": {
     "base_uri": "https://localhost:8080/",
     "height": 281
    },
    "colab_type": "code",
    "id": "BPbCOSlDRnkL",
    "outputId": "853041a0-77a2-4941-a1ff-afebb311ace5"
   },
   "outputs": [
    {
     "data": {
      "image/png": "[encoded data removed]",
      "text/plain": [
       "<Figure size 432x288 with 1 Axes>"
      ]
     },
     "metadata": {
      "needs_background": "light"
     },
     "output_type": "display_data"
    }
   ],
   "source": [
    "# plot\n",
    "sns.countplot(y_res, palette='OrRd')\n",
    "plt.box(False)\n",
    "plt.xlabel=('Receita por Sessão')\n",
    "plt.ylabel=('Contagem de Classes')\n",
    "plt.title('Contagem de Classes')\n",
    "plt.show()"
   ]
  },
  {
   "cell_type": "code",
   "execution_count": 35,
   "metadata": {
    "colab": {},
    "colab_type": "code",
    "id": "DhsVYakZprwb"
   },
   "outputs": [],
   "source": [
    "# Divisão em Dados de Treino e Teste\n",
    "X_treino, X_teste, y_treino, y_teste = train_test_split(X,y, test_size=0.3, random_state=42)"
   ]
  },
  {
   "cell_type": "markdown",
   "metadata": {
    "colab_type": "text",
    "id": "98RErlPsqivt"
   },
   "source": [
    "## Modelo SVM"
   ]
  },
  {
   "cell_type": "markdown",
   "metadata": {
    "colab_type": "text",
    "id": "DGIRkWjUsnDk"
   },
   "source": [
    "### Modelo com Kernil Linear e Dados Padronizads (Scaled)"
   ]
  },
  {
   "cell_type": "code",
   "execution_count": 36,
   "metadata": {
    "colab": {},
    "colab_type": "code",
    "id": "8M-vmPQgskiC"
   },
   "outputs": [],
   "source": [
    "# Padronização\n",
    "X_treino_scaled = StandardScaler().fit_transform(X_treino)\n",
    "X_teste_scaled = StandardScaler().fit_transform(X_teste)"
   ]
  },
  {
   "cell_type": "code",
   "execution_count": 37,
   "metadata": {
    "colab": {},
    "colab_type": "code",
    "id": "1fvz8q02qhX3"
   },
   "outputs": [],
   "source": [
    "modelo_v1 = svm.SVC(kernel = 'linear')"
   ]
  },
  {
   "cell_type": "code",
   "execution_count": 38,
   "metadata": {
    "colab": {
     "base_uri": "https://localhost:8080/",
     "height": 85
    },
    "colab_type": "code",
    "id": "apXFdw0mqcsw",
    "outputId": "5da2c8b4-b1dd-4243-f310-e04d76f4694f"
   },
   "outputs": [
    {
     "data": {
      "text/plain": [
       "SVC(C=1.0, break_ties=False, cache_size=200, class_weight=None, coef0=0.0,\n",
       "    decision_function_shape='ovr', degree=3, gamma='scale', kernel='linear',\n",
       "    max_iter=-1, probability=False, random_state=None, shrinking=True,\n",
       "    tol=0.001, verbose=False)"
      ]
     },
     "execution_count": 38,
     "metadata": {},
     "output_type": "execute_result"
    }
   ],
   "source": [
    "#Treinamento\n",
    "modelo_v1.fit(X_treino, y_treino)\n"
   ]
  },
  {
   "cell_type": "code",
   "execution_count": 39,
   "metadata": {
    "colab": {},
    "colab_type": "code",
    "id": "H3qFBAl4rv5s"
   },
   "outputs": [],
   "source": [
    "previsoes_v1 = modelo_v1.predict(X_teste_scaled)"
   ]
  },
  {
   "cell_type": "code",
   "execution_count": 40,
   "metadata": {},
   "outputs": [
    {
     "data": {
      "text/plain": [
       "{'Modelo': 'SVM',\n",
       " 'Versão': '1',\n",
       " 'Kernel': 'Linear com Dados Padronizados',\n",
       " 'Precision': 0.1843065693430657,\n",
       " 'Recall': 0.38846153846153847,\n",
       " 'F1 Score': 0.25,\n",
       " 'Acuracia': 0.8359945872801082,\n",
       " 'AUC': 0.5668911302387397}"
      ]
     },
     "execution_count": 40,
     "metadata": {},
     "output_type": "execute_result"
    }
   ],
   "source": [
    "SVM_dict_v1 = {\n",
    "    'Modelo':'SVM',\n",
    "    'Versão':'1',\n",
    "    'Kernel':'Linear com Dados Padronizados',\n",
    "    'Precision':precision_score(previsoes_v1, y_teste),\n",
    "    'Recall':recall_score(previsoes_v1, y_teste),\n",
    "    'F1 Score': f1_score(previsoes_v1, y_teste),\n",
    "    'Acuracia':accuracy_score(previsoes_v1, y_teste),\n",
    "    'AUC':roc_auc_score(y_teste,previsoes_v1)\n",
    "}\n",
    "SVM_dict_v1"
   ]
  },
  {
   "cell_type": "markdown",
   "metadata": {},
   "source": [
    "## Otimização de Hiperparâmetros com Grid Search e Kernel RBF"
   ]
  },
  {
   "cell_type": "code",
   "execution_count": 41,
   "metadata": {},
   "outputs": [
    {
     "name": "stdout",
     "output_type": "stream",
     "text": [
      "Acurácia em Treinamento: 89.42%\n",
      " \n",
      "Hiperparâmetros Ideais: {'C': 200.0, 'gamma': 0.003}\n"
     ]
    }
   ],
   "source": [
    "modelo_v2 = svm.SVC(kernel = 'rbf')\n",
    "\n",
    "#Valores para o grid\n",
    "C_range = np.array([50., 100., 200.])\n",
    "gamma_range = np.array([0.3*0.001, 0.001, 3*0.001])\n",
    "\n",
    "#Grid de hiperparâmetros\n",
    "svm_param_grid = dict(gamma = gamma_range, C=C_range)\n",
    "\n",
    "#Grid Search\n",
    "modelo_v2_grid_search_rbf =  GridSearchCV(modelo_v2, svm_param_grid, cv=3)\n",
    "\n",
    "#Treinamento\n",
    "modelo_v2_grid_search_rbf.fit(X_treino_scaled, y_treino)\n",
    "\n",
    "#Acurácia em Treino\n",
    "print(f\"Acurácia em Treinamento: {modelo_v2_grid_search_rbf.best_score_:.2%}\")\n",
    "print(\" \")\n",
    "print(f\"Hiperparâmetros Ideais: {modelo_v2_grid_search_rbf.best_params_}\")"
   ]
  },
  {
   "cell_type": "code",
   "execution_count": 42,
   "metadata": {},
   "outputs": [],
   "source": [
    "# Previsões \n",
    "previsoes_v2 = modelo_v2_grid_search_rbf.predict(X_teste_scaled)\n"
   ]
  },
  {
   "cell_type": "code",
   "execution_count": 43,
   "metadata": {},
   "outputs": [
    {
     "data": {
      "text/plain": [
       "{'Modelo': 'SVM',\n",
       " 'Versão': '1',\n",
       " 'Kernel': 'Linear com Dados Padronizados',\n",
       " 'Precision': 0.5200729927007299,\n",
       " 'Recall': 0.691747572815534,\n",
       " 'F1 Score': 0.59375,\n",
       " 'Acuracia': 0.8944519621109608,\n",
       " 'AUC': 0.7398585490990145}"
      ]
     },
     "execution_count": 43,
     "metadata": {},
     "output_type": "execute_result"
    }
   ],
   "source": [
    "SVM_dict_v2 = {\n",
    "    'Modelo':'SVM',\n",
    "    'Versão':'1',\n",
    "    'Kernel':'Linear com Dados Padronizados',\n",
    "    'Precision':precision_score(previsoes_v2, y_teste),\n",
    "    'Recall':recall_score(previsoes_v2, y_teste),\n",
    "    'F1 Score': f1_score(previsoes_v2, y_teste),\n",
    "    'Acuracia':accuracy_score(previsoes_v2, y_teste),\n",
    "    'AUC':roc_auc_score(y_teste,previsoes_v2)\n",
    "}\n",
    "SVM_dict_v2"
   ]
  },
  {
   "cell_type": "markdown",
   "metadata": {},
   "source": [
    "## Otimização de Hiperparâmetros com Grid Search e Kerne Polinomial\n"
   ]
  },
  {
   "cell_type": "code",
   "execution_count": 44,
   "metadata": {},
   "outputs": [
    {
     "name": "stdout",
     "output_type": "stream",
     "text": [
      "Acurácia em Treinamento: 89.19%\n",
      " \n",
      "Hiperparâmetros Ideais: {'coef0': 1.0, 'degree': 4, 'gamma': 0.01}\n"
     ]
    }
   ],
   "source": [
    "#criar o modelo\n",
    "modelo_v3 = svm.SVC(kernel = 'poly')\n",
    "\n",
    "#valores para o grid\n",
    "r_range = np.array([0.5, 1])\n",
    "gamma_range = np.array([0.001, 0.01])\n",
    "d_range = np.array([2,3,4])\n",
    "\n",
    "#Grid de hiperparâmetros\n",
    "param_grid_poly = dict(gamma=gamma_range, degree=d_range, coef0=r_range)\n",
    "\n",
    "#grid search\n",
    "modelo_v3_grid_search_poly = GridSearchCV(modelo_v3, param_grid_poly, cv=3)\n",
    "\n",
    "#Treinamento\n",
    "modelo_v3_grid_search_poly.fit(X_treino_scaled, y_treino)\n",
    "\n",
    "#acurácia em treino\n",
    "#Acurácia em Treino\n",
    "print(f\"Acurácia em Treinamento: {modelo_v3_grid_search_poly.best_score_:.2%}\")\n",
    "print(\" \")\n",
    "print(f\"Hiperparâmetros Ideais: {modelo_v3_grid_search_poly.best_params_}\")"
   ]
  },
  {
   "cell_type": "code",
   "execution_count": 45,
   "metadata": {},
   "outputs": [],
   "source": [
    "# Previsões \n",
    "previsoes_v3 = modelo_v3_grid_search_poly.predict(X_teste_scaled)"
   ]
  },
  {
   "cell_type": "code",
   "execution_count": 46,
   "metadata": {},
   "outputs": [
    {
     "data": {
      "text/plain": [
       "{'Modelo': 'SVM',\n",
       " 'Versão': '1',\n",
       " 'Kernel': 'Linear com Dados Padronizados',\n",
       " 'Precision': 0.4781021897810219,\n",
       " 'Recall': 0.6986666666666667,\n",
       " 'F1 Score': 0.5677139761646803,\n",
       " 'Acuracia': 0.8920162381596752,\n",
       " 'AUC': 0.7210974882810416}"
      ]
     },
     "execution_count": 46,
     "metadata": {},
     "output_type": "execute_result"
    }
   ],
   "source": [
    "SVM_dict_v3 = {\n",
    "    'Modelo':'SVM',\n",
    "    'Versão':'1',\n",
    "    'Kernel':'Linear com Dados Padronizados',\n",
    "    'Precision':precision_score(previsoes_v3, y_teste),\n",
    "    'Recall':recall_score(previsoes_v3, y_teste),\n",
    "    'F1 Score': f1_score(previsoes_v3, y_teste),\n",
    "    'Acuracia':accuracy_score(previsoes_v3, y_teste),\n",
    "    'AUC':roc_auc_score(y_teste,previsoes_v3)\n",
    "}\n",
    "SVM_dict_v3"
   ]
  },
  {
   "cell_type": "code",
   "execution_count": 47,
   "metadata": {},
   "outputs": [
    {
     "data": {
      "text/html": [
       "<div>\n",
       "<style scoped>\n",
       "    .dataframe tbody tr th:only-of-type {\n",
       "        vertical-align: middle;\n",
       "    }\n",
       "\n",
       "    .dataframe tbody tr th {\n",
       "        vertical-align: top;\n",
       "    }\n",
       "\n",
       "    .dataframe thead th {\n",
       "        text-align: right;\n",
       "    }\n",
       "</style>\n",
       "<table border=\"1\" class=\"dataframe\">\n",
       "  <thead>\n",
       "    <tr style=\"text-align: right;\">\n",
       "      <th></th>\n",
       "      <th>SVM_dict_v1</th>\n",
       "      <th>SVM_dict_v2</th>\n",
       "      <th>SVM_dict_v3</th>\n",
       "    </tr>\n",
       "  </thead>\n",
       "  <tbody>\n",
       "    <tr>\n",
       "      <th>Modelo</th>\n",
       "      <td>SVM</td>\n",
       "      <td>SVM</td>\n",
       "      <td>SVM</td>\n",
       "    </tr>\n",
       "    <tr>\n",
       "      <th>Versão</th>\n",
       "      <td>1</td>\n",
       "      <td>1</td>\n",
       "      <td>1</td>\n",
       "    </tr>\n",
       "    <tr>\n",
       "      <th>Kernel</th>\n",
       "      <td>Linear com Dados Padronizados</td>\n",
       "      <td>Linear com Dados Padronizados</td>\n",
       "      <td>Linear com Dados Padronizados</td>\n",
       "    </tr>\n",
       "    <tr>\n",
       "      <th>Precision</th>\n",
       "      <td>0.184307</td>\n",
       "      <td>0.520073</td>\n",
       "      <td>0.478102</td>\n",
       "    </tr>\n",
       "    <tr>\n",
       "      <th>Recall</th>\n",
       "      <td>0.388462</td>\n",
       "      <td>0.691748</td>\n",
       "      <td>0.698667</td>\n",
       "    </tr>\n",
       "    <tr>\n",
       "      <th>F1 Score</th>\n",
       "      <td>0.25</td>\n",
       "      <td>0.59375</td>\n",
       "      <td>0.567714</td>\n",
       "    </tr>\n",
       "    <tr>\n",
       "      <th>Acuracia</th>\n",
       "      <td>0.835995</td>\n",
       "      <td>0.894452</td>\n",
       "      <td>0.892016</td>\n",
       "    </tr>\n",
       "    <tr>\n",
       "      <th>AUC</th>\n",
       "      <td>0.566891</td>\n",
       "      <td>0.739859</td>\n",
       "      <td>0.721097</td>\n",
       "    </tr>\n",
       "  </tbody>\n",
       "</table>\n",
       "</div>"
      ],
      "text/plain": [
       "                             SVM_dict_v1                    SVM_dict_v2  \\\n",
       "Modelo                               SVM                            SVM   \n",
       "Versão                                 1                              1   \n",
       "Kernel     Linear com Dados Padronizados  Linear com Dados Padronizados   \n",
       "Precision                       0.184307                       0.520073   \n",
       "Recall                          0.388462                       0.691748   \n",
       "F1 Score                            0.25                        0.59375   \n",
       "Acuracia                        0.835995                       0.894452   \n",
       "AUC                             0.566891                       0.739859   \n",
       "\n",
       "                             SVM_dict_v3  \n",
       "Modelo                               SVM  \n",
       "Versão                                 1  \n",
       "Kernel     Linear com Dados Padronizados  \n",
       "Precision                       0.478102  \n",
       "Recall                          0.698667  \n",
       "F1 Score                        0.567714  \n",
       "Acuracia                        0.892016  \n",
       "AUC                             0.721097  "
      ]
     },
     "execution_count": 47,
     "metadata": {},
     "output_type": "execute_result"
    }
   ],
   "source": [
    "resumo = pd.DataFrame({'SVM_dict_v1':pd.Series(SVM_dict_v1),\n",
    "                       'SVM_dict_v2':pd.Series(SVM_dict_v2),\n",
    "                       'SVM_dict_v3':pd.Series(SVM_dict_v3),\n",
    "                      })\n",
    "resumo"
   ]
  },
  {
   "cell_type": "code",
   "execution_count": 48,
   "metadata": {},
   "outputs": [],
   "source": [
    "Nv_teste = np.array(X.iloc[20]).reshape(1,-1)"
   ]
  },
  {
   "cell_type": "code",
   "execution_count": 49,
   "metadata": {},
   "outputs": [],
   "source": [
    "## Fazendo Previsões com o Modelo Treinado\n",
    "# novo registro\n",
    "novo_x = np.array([4.0, 5.56, 1.0, 3.78, 2.995, 6.00, 0.69, 0.70, 0.69, 0, 6, 1, 1, 3, 3, 2, True]).reshape(1,-1)"
   ]
  },
  {
   "cell_type": "code",
   "execution_count": 50,
   "metadata": {},
   "outputs": [
    {
     "data": {
      "text/plain": [
       "array([[0., 0., 0., 0., 0., 0., 0., 0., 0., 0., 0., 0., 0., 0., 0., 0.,\n",
       "        0.]])"
      ]
     },
     "execution_count": 50,
     "metadata": {},
     "output_type": "execute_result"
    }
   ],
   "source": [
    "#padronizando o registro\n",
    "novo_x_scaled = StandardScaler().fit_transform(Nv_teste)\n",
    "novo_x_scaled"
   ]
  },
  {
   "cell_type": "code",
   "execution_count": 51,
   "metadata": {},
   "outputs": [
    {
     "data": {
      "text/plain": [
       "array([False])"
      ]
     },
     "execution_count": 51,
     "metadata": {},
     "output_type": "execute_result"
    }
   ],
   "source": [
    "#Previsão\n",
    "previsao_novo_x = modelo_v2_grid_search_rbf.predict(novo_x_scaled)\n",
    "previsao_novo_x"
   ]
  },
  {
   "cell_type": "code",
   "execution_count": 71,
   "metadata": {},
   "outputs": [
    {
     "name": "stdout",
     "output_type": "stream",
     "text": [
      "Conj. Número:  [[0.0 0.0 0.0 0.0 2.0 2.666666677 0.05 0.14 0.0 0.0 2 3 2 2 4 2 False]]\n",
      "Números transformado:  [[0. 0. 0. 0. 0. 0. 0. 0. 0. 0. 0. 0. 0. 0. 0. 0. 0.]]\n",
      "[False]\n"
     ]
    }
   ],
   "source": [
    "Nv_teste = np.array(X.iloc[3]).reshape(1,-1)\n",
    "print('Conj. Número: ', Nv_teste)\n",
    "# novo registro\n",
    "novo_x_scaled = StandardScaler().fit_transform(Nv_teste)\n",
    "print('Números transformado: ',novo_x_scaled)\n",
    "#Previsão\n",
    "previsao_novo_x = modelo_v2_grid_search_rbf.predict(novo_x_scaled)\n",
    "print(previsao_novo_x)"
   ]
  },
  {
   "cell_type": "markdown",
   "metadata": {},
   "source": [
    "# FIM"
   ]
  },
  {
   "cell_type": "code",
   "execution_count": null,
   "metadata": {},
   "outputs": [],
   "source": []
  }
 ],
 "metadata": {
  "accelerator": "GPU",
  "colab": {
   "collapsed_sections": [],
   "name": "SVM - Prevendo a Intenção de Compra de Usuários de E-commerce.ipynb",
   "provenance": [],
   "toc_visible": true
  },
  "kernelspec": {
   "display_name": "Python 3",
   "language": "python",
   "name": "python3"
  },
  "language_info": {
   "codemirror_mode": {
    "name": "ipython",
    "version": 3
   },
   "file_extension": ".py",
   "mimetype": "text/x-python",
   "name": "python",
   "nbconvert_exporter": "python",
   "pygments_lexer": "ipython3",
   "version": "3.7.3"
  }
 },
 "nbformat": 4,
 "nbformat_minor": 1
}
